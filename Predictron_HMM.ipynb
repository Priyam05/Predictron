{
 "cells": [
  {
   "cell_type": "code",
   "execution_count": 1,
   "metadata": {},
   "outputs": [],
   "source": [
    "#Distributions and Modules\n",
    "import torch.nn as nn\n",
    "import torch\n",
    "import torch.nn.functional as F\n",
    "from torch import distributions\n",
    "import pandas as pd\n",
    "import numpy as np\n",
    "from torch import optim"
   ]
  },
  {
   "cell_type": "code",
   "execution_count": 2,
   "metadata": {},
   "outputs": [],
   "source": [
    "def Normalization(df):\n",
    "    df.iloc[:,2:]= df.iloc[:,2:].apply(lambda x: ((x-x.mean()) / (x.std())))\n",
    "    return df"
   ]
  },
  {
   "cell_type": "code",
   "execution_count": 3,
   "metadata": {},
   "outputs": [],
   "source": [
    "def preprocessing(path):\n",
    "#    gamma = 0.9\n",
    "    df = pd.read_csv(path, header=None, delimiter=' ')\n",
    "    \n",
    "    #Normalize the data\n",
    "    df = Normalization(df)\n",
    "    \n",
    "    #Drop the columns which has all values as Nan\n",
    "    df.dropna(axis=1, how='all', inplace=True)\n",
    "    \n",
    "#     #Get Rewards for each time step : 0 except last time step where reward is -100\n",
    "#     df['Counter'] = df.index\n",
    "#     lastRowIndex = df.groupby(0).last().Counter.tolist()\n",
    "#     df['reward'] = df['Counter'].apply(lambda x : -100 if x in lastRowIndex else 0 )\n",
    "#     df.drop(columns=['Counter'],inplace=True)\n",
    "    \n",
    "    #Rename columns\n",
    "    df.rename(columns={0: \"machine\", 1: \"time\"}, inplace=True)\n",
    "    \n",
    "    #Calculate Monte Carlo Value for each row\n",
    "    df1 = df.groupby('machine').last()[['time']].reset_index()\n",
    "    df = pd.merge(df, df1, on = 'machine', how = 'left').rename(columns ={'time_x':'time','time_y':'lastTimeStamp'})\n",
    "    #df['MC_Val'] = (gamma ** (df['lastTimeStamp'] - df['time'] )) * (-100)\n",
    "    df['MC_Val'] = (df['lastTimeStamp'] - df['time'] )\n",
    "    df = df.drop(columns='lastTimeStamp')\n",
    "    \n",
    "    return df"
   ]
  },
  {
   "cell_type": "code",
   "execution_count": 5,
   "metadata": {},
   "outputs": [],
   "source": [
    "df = pd.read_csv(\"HMM_data.csv\")"
   ]
  },
  {
   "cell_type": "code",
   "execution_count": 10,
   "metadata": {},
   "outputs": [],
   "source": [
    "df.drop(df.columns[0], axis=1, inplace=True)"
   ]
  },
  {
   "cell_type": "code",
   "execution_count": 11,
   "metadata": {},
   "outputs": [
    {
     "data": {
      "text/html": [
       "<div>\n",
       "<style scoped>\n",
       "    .dataframe tbody tr th:only-of-type {\n",
       "        vertical-align: middle;\n",
       "    }\n",
       "\n",
       "    .dataframe tbody tr th {\n",
       "        vertical-align: top;\n",
       "    }\n",
       "\n",
       "    .dataframe thead th {\n",
       "        text-align: right;\n",
       "    }\n",
       "</style>\n",
       "<table border=\"1\" class=\"dataframe\">\n",
       "  <thead>\n",
       "    <tr style=\"text-align: right;\">\n",
       "      <th></th>\n",
       "      <th>machine</th>\n",
       "      <th>time</th>\n",
       "      <th>2</th>\n",
       "      <th>3</th>\n",
       "      <th>5</th>\n",
       "      <th>6</th>\n",
       "      <th>7</th>\n",
       "      <th>8</th>\n",
       "      <th>9</th>\n",
       "      <th>10</th>\n",
       "      <th>...</th>\n",
       "      <th>15</th>\n",
       "      <th>16</th>\n",
       "      <th>17</th>\n",
       "      <th>18</th>\n",
       "      <th>19</th>\n",
       "      <th>20</th>\n",
       "      <th>21</th>\n",
       "      <th>24</th>\n",
       "      <th>25</th>\n",
       "      <th>Return</th>\n",
       "    </tr>\n",
       "  </thead>\n",
       "  <tbody>\n",
       "    <tr>\n",
       "      <th>0</th>\n",
       "      <td>1</td>\n",
       "      <td>1</td>\n",
       "      <td>-0.315972</td>\n",
       "      <td>-1.372920</td>\n",
       "      <td>0.999976</td>\n",
       "      <td>-1.721684</td>\n",
       "      <td>-0.134252</td>\n",
       "      <td>-0.925914</td>\n",
       "      <td>0.999976</td>\n",
       "      <td>0.14168</td>\n",
       "      <td>...</td>\n",
       "      <td>-0.266460</td>\n",
       "      <td>0.334254</td>\n",
       "      <td>-1.058865</td>\n",
       "      <td>-0.269065</td>\n",
       "      <td>-0.603801</td>\n",
       "      <td>0.999976</td>\n",
       "      <td>-0.781691</td>\n",
       "      <td>1.348460</td>\n",
       "      <td>1.194398</td>\n",
       "      <td>21037.935596</td>\n",
       "    </tr>\n",
       "    <tr>\n",
       "      <th>1</th>\n",
       "      <td>1</td>\n",
       "      <td>2</td>\n",
       "      <td>0.872701</td>\n",
       "      <td>-1.031695</td>\n",
       "      <td>0.999976</td>\n",
       "      <td>-1.061754</td>\n",
       "      <td>0.211523</td>\n",
       "      <td>-0.643710</td>\n",
       "      <td>0.999976</td>\n",
       "      <td>0.14168</td>\n",
       "      <td>...</td>\n",
       "      <td>-0.191578</td>\n",
       "      <td>1.174871</td>\n",
       "      <td>-0.363637</td>\n",
       "      <td>-0.642829</td>\n",
       "      <td>-0.275845</td>\n",
       "      <td>0.999976</td>\n",
       "      <td>-0.781691</td>\n",
       "      <td>1.016503</td>\n",
       "      <td>1.236892</td>\n",
       "      <td>20887.935596</td>\n",
       "    </tr>\n",
       "    <tr>\n",
       "      <th>2</th>\n",
       "      <td>1</td>\n",
       "      <td>3</td>\n",
       "      <td>-1.961827</td>\n",
       "      <td>1.015652</td>\n",
       "      <td>0.999976</td>\n",
       "      <td>-0.661797</td>\n",
       "      <td>-0.413156</td>\n",
       "      <td>-0.525940</td>\n",
       "      <td>0.999976</td>\n",
       "      <td>0.14168</td>\n",
       "      <td>...</td>\n",
       "      <td>-1.015279</td>\n",
       "      <td>1.364688</td>\n",
       "      <td>-0.919819</td>\n",
       "      <td>-0.551616</td>\n",
       "      <td>-0.649128</td>\n",
       "      <td>0.999976</td>\n",
       "      <td>-2.073044</td>\n",
       "      <td>0.739873</td>\n",
       "      <td>0.503411</td>\n",
       "      <td>20737.935596</td>\n",
       "    </tr>\n",
       "    <tr>\n",
       "      <th>3</th>\n",
       "      <td>1</td>\n",
       "      <td>4</td>\n",
       "      <td>0.324083</td>\n",
       "      <td>-0.008022</td>\n",
       "      <td>0.999976</td>\n",
       "      <td>-0.661797</td>\n",
       "      <td>-1.261284</td>\n",
       "      <td>-0.784812</td>\n",
       "      <td>0.999976</td>\n",
       "      <td>0.14168</td>\n",
       "      <td>...</td>\n",
       "      <td>-1.539452</td>\n",
       "      <td>1.961255</td>\n",
       "      <td>-0.224592</td>\n",
       "      <td>-0.520163</td>\n",
       "      <td>-1.971617</td>\n",
       "      <td>0.999976</td>\n",
       "      <td>-0.781691</td>\n",
       "      <td>0.352590</td>\n",
       "      <td>0.777773</td>\n",
       "      <td>20587.935596</td>\n",
       "    </tr>\n",
       "    <tr>\n",
       "      <th>4</th>\n",
       "      <td>1</td>\n",
       "      <td>5</td>\n",
       "      <td>-0.864590</td>\n",
       "      <td>-0.690471</td>\n",
       "      <td>0.999976</td>\n",
       "      <td>-0.621801</td>\n",
       "      <td>-1.251498</td>\n",
       "      <td>-0.301511</td>\n",
       "      <td>0.999976</td>\n",
       "      <td>0.14168</td>\n",
       "      <td>...</td>\n",
       "      <td>-0.977838</td>\n",
       "      <td>1.052846</td>\n",
       "      <td>-0.780774</td>\n",
       "      <td>-0.521736</td>\n",
       "      <td>-0.339837</td>\n",
       "      <td>0.999976</td>\n",
       "      <td>-0.136014</td>\n",
       "      <td>0.463242</td>\n",
       "      <td>1.059526</td>\n",
       "      <td>20437.935596</td>\n",
       "    </tr>\n",
       "  </tbody>\n",
       "</table>\n",
       "<p>5 rows × 24 columns</p>\n",
       "</div>"
      ],
      "text/plain": [
       "   machine  time         2         3         5         6         7         8  \\\n",
       "0        1     1 -0.315972 -1.372920  0.999976 -1.721684 -0.134252 -0.925914   \n",
       "1        1     2  0.872701 -1.031695  0.999976 -1.061754  0.211523 -0.643710   \n",
       "2        1     3 -1.961827  1.015652  0.999976 -0.661797 -0.413156 -0.525940   \n",
       "3        1     4  0.324083 -0.008022  0.999976 -0.661797 -1.261284 -0.784812   \n",
       "4        1     5 -0.864590 -0.690471  0.999976 -0.621801 -1.251498 -0.301511   \n",
       "\n",
       "          9       10  ...        15        16        17        18        19  \\\n",
       "0  0.999976  0.14168  ... -0.266460  0.334254 -1.058865 -0.269065 -0.603801   \n",
       "1  0.999976  0.14168  ... -0.191578  1.174871 -0.363637 -0.642829 -0.275845   \n",
       "2  0.999976  0.14168  ... -1.015279  1.364688 -0.919819 -0.551616 -0.649128   \n",
       "3  0.999976  0.14168  ... -1.539452  1.961255 -0.224592 -0.520163 -1.971617   \n",
       "4  0.999976  0.14168  ... -0.977838  1.052846 -0.780774 -0.521736 -0.339837   \n",
       "\n",
       "         20        21        24        25        Return  \n",
       "0  0.999976 -0.781691  1.348460  1.194398  21037.935596  \n",
       "1  0.999976 -0.781691  1.016503  1.236892  20887.935596  \n",
       "2  0.999976 -2.073044  0.739873  0.503411  20737.935596  \n",
       "3  0.999976 -0.781691  0.352590  0.777773  20587.935596  \n",
       "4  0.999976 -0.136014  0.463242  1.059526  20437.935596  \n",
       "\n",
       "[5 rows x 24 columns]"
      ]
     },
     "execution_count": 11,
     "metadata": {},
     "output_type": "execute_result"
    }
   ],
   "source": [
    "df.head()"
   ]
  },
  {
   "cell_type": "markdown",
   "metadata": {},
   "source": [
    "## We have added the reward and Val column. We will be using the Val column for the Monte Carlo return gamma**(T-t)  *  -100"
   ]
  },
  {
   "cell_type": "markdown",
   "metadata": {},
   "source": [
    "## Now lets build the Neural network for the predictron"
   ]
  },
  {
   "cell_type": "code",
   "execution_count": 12,
   "metadata": {},
   "outputs": [],
   "source": [
    "#Neural network for Observation - Hidden State"
   ]
  },
  {
   "cell_type": "code",
   "execution_count": 13,
   "metadata": {},
   "outputs": [],
   "source": [
    "class NN_OH(nn.Module):\n",
    "    def __init__(self, input_size, out_size):\n",
    "        super(NN_OH,self).__init__()\n",
    "        self.fc1 = nn.Linear(input_size,64)\n",
    "        self.fc2 = nn.Linear(64,64)\n",
    "        self.fc3 = nn.Linear(64,64)\n",
    "        self.fc4 = nn.Linear(64,out_size)\n",
    "        \n",
    "    def forward(self,x):\n",
    "        x = F.relu(self.fc1(x))\n",
    "        x = F.relu(self.fc2(x))\n",
    "        x = F.relu(self.fc3(x))\n",
    "        x = F.softmax(self.fc4(x), dim=1)\n",
    "        return x"
   ]
  },
  {
   "cell_type": "code",
   "execution_count": 14,
   "metadata": {},
   "outputs": [],
   "source": [
    "#Neural network for Hidden State - Reward, Gamma, Lambda"
   ]
  },
  {
   "cell_type": "code",
   "execution_count": 15,
   "metadata": {},
   "outputs": [],
   "source": [
    "class NN_reward(nn.Module):\n",
    "    def __init__(self, input_size):\n",
    "        super(NN_reward,self).__init__()\n",
    "        self.fc1 = nn.Linear(input_size,64)\n",
    "        self.fc2 = nn.Linear(64,64)\n",
    "        self.fc3 = nn.Linear(64,3)\n",
    "        \n",
    "    def forward(self,x):\n",
    "        x = F.relu(self.fc1(x))\n",
    "        x = F.relu(self.fc2(x))\n",
    "        x = self.fc3(x)\n",
    "        return x"
   ]
  },
  {
   "cell_type": "code",
   "execution_count": 16,
   "metadata": {},
   "outputs": [],
   "source": [
    "#Neural network for Hidden State - Value\n",
    "class NN_val(nn.Module):\n",
    "    def __init__(self, input_size):\n",
    "        super(NN_val,self).__init__()\n",
    "        self.fc1 = nn.Linear(input_size,64)\n",
    "        self.fc2 = nn.Linear(64,64)\n",
    "        self.fc3 = nn.Linear(64,1)\n",
    "        \n",
    "    def forward(self,x):\n",
    "        x = F.relu(self.fc1(x))\n",
    "        x = F.relu(self.fc2(x))\n",
    "        x = self.fc3(x)\n",
    "        return x"
   ]
  },
  {
   "cell_type": "code",
   "execution_count": 17,
   "metadata": {},
   "outputs": [],
   "source": [
    "##Neural Network which will take my current hidden state to the next hidden state"
   ]
  },
  {
   "cell_type": "code",
   "execution_count": 18,
   "metadata": {},
   "outputs": [],
   "source": [
    "class NN_HH(nn.Module):\n",
    "    def __init__(self, input_size):\n",
    "        super(NN_HH,self).__init__()\n",
    "        self.fc1 = nn.Linear(input_size,64)\n",
    "        self.fc2 = nn.Linear(64,64)\n",
    "        self.fc3 = nn.Linear(64,64)\n",
    "        self.fc4 = nn.Linear(64,input_size)\n",
    "        \n",
    "    def forward(self,x):\n",
    "        x = F.relu(self.fc1(x))\n",
    "        x = F.relu(self.fc2(x))\n",
    "        x = F.relu(self.fc3(x))\n",
    "        x = F.softmax(self.fc4(x), dim =1)\n",
    "        return x"
   ]
  },
  {
   "cell_type": "code",
   "execution_count": 19,
   "metadata": {},
   "outputs": [],
   "source": [
    "#Now we have all the required neural networks for the predictron. Lets build the Predictron\n",
    "\n",
    "class Predictronv3(nn.Module):\n",
    "    def __init__(self, obs_size, hid_size, k=10):\n",
    "        super(Predictronv3,self).__init__()\n",
    "        \n",
    "        #Instantiate Neural Network for Observation-Hidden State\n",
    "        self.OH = NN_OH(obs_size, hid_size)\n",
    "        \n",
    "        #Instantiate Neural Network for Hidden State - Reward, Value\n",
    "        self.HR = NN_reward(hid_size)\n",
    "        \n",
    "        #Instantiate Neural Network for Hidden State - Val\n",
    "        self.HV = NN_val(hid_size)\n",
    "        \n",
    "        #Instantiate Neural Network for Hidden State - Next Hidden State\n",
    "        self.HH = NN_HH(hid_size)\n",
    "        \n",
    "        #K-step return\n",
    "        self.k = k\n",
    "        \n",
    "    def forward(self, x):\n",
    "        #Predictron core will output the value estimate for the current observation. We will input x (observation) \n",
    "        #and get value estimate. This implementation is for a k-step return which can be extended to TD(lambda) return\n",
    "        \n",
    "        #First step: Get the Hidden state for the current observation\n",
    "        \n",
    "        x = self.OH(x)\n",
    "        #Get the reward, lambda, gamma for current hidden state\n",
    "        reward = self.HR(x)[:,0].reshape(-1,1)\n",
    "        gamma = self.HR(x)[:,1].reshape(-1,1)\n",
    "        _lambda = self.HR(x)[:,2].reshape(-1,1)\n",
    "        \n",
    "        #Get value of the current hidden state\n",
    "        val = self.HV(x)\n",
    "        #print(val.shape)\n",
    "        #Get glk for 0th step\n",
    "        glk = (1-_lambda)*val + _lambda* reward\n",
    "        #print(glk.shape)\n",
    "        \n",
    "        #Store gamma and lambda as prev lambda\n",
    "        prev_gamma = gamma\n",
    "        prev_lambda = _lambda\n",
    "        \n",
    "        #Now run the loop for k steps\n",
    "        for i in range(1, self.k + 1):\n",
    "            #Move to next hidden step\n",
    "            x = self.HH(x)\n",
    "            \n",
    "            #Get the reward, lambda, gamma for current hidden state\n",
    "            reward = self.HR(x)[:,0].reshape(-1,1)\n",
    "            gamma = self.HR(x)[:,1].reshape(-1,1)\n",
    "            _lambda = self.HR(x)[:,2].reshape(-1,1)\n",
    "            \n",
    "            #Get value of the current hidden state\n",
    "            val = self.HV(x)\n",
    "            \n",
    "            #Calculate the lambda return\n",
    "            glk += (prev_gamma*prev_lambda) * ((1-_lambda)*val + _lambda* reward)\n",
    "        \n",
    "\n",
    "        return glk.reshape(-1,1)"
   ]
  },
  {
   "cell_type": "code",
   "execution_count": 20,
   "metadata": {},
   "outputs": [],
   "source": [
    "def getXY(data):\n",
    "    x = torch.tensor(data.iloc[:, 2:-1].values).float()\n",
    "    y_target = torch.tensor(data.iloc[:,-1].values).float()\n",
    "    y_target = y_target.reshape(-1,1)\n",
    "    \n",
    "    return x, y_target"
   ]
  },
  {
   "cell_type": "code",
   "execution_count": 21,
   "metadata": {},
   "outputs": [],
   "source": [
    "x, y_target = getXY(df)"
   ]
  },
  {
   "cell_type": "code",
   "execution_count": 22,
   "metadata": {},
   "outputs": [
    {
     "data": {
      "text/plain": [
       "torch.Size([20631, 21])"
      ]
     },
     "execution_count": 22,
     "metadata": {},
     "output_type": "execute_result"
    }
   ],
   "source": [
    "x.shape"
   ]
  },
  {
   "cell_type": "code",
   "execution_count": 23,
   "metadata": {},
   "outputs": [
    {
     "data": {
      "text/plain": [
       "torch.Size([20631, 1])"
      ]
     },
     "execution_count": 23,
     "metadata": {},
     "output_type": "execute_result"
    }
   ],
   "source": [
    "y_target.shape"
   ]
  },
  {
   "cell_type": "code",
   "execution_count": 25,
   "metadata": {},
   "outputs": [],
   "source": [
    "#Defining the loss function and Initialising the Predictron core\n",
    "k=10\n",
    "loss_fn = nn.MSELoss() #**#Summation\n",
    "core = Predictronv3(x.shape[1], 4, k)\n",
    "optimizer = optim.Adam(core.parameters(), lr = 1e-4) #set to 1e-3"
   ]
  },
  {
   "cell_type": "code",
   "execution_count": 26,
   "metadata": {},
   "outputs": [
    {
     "data": {
      "text/plain": [
       "Predictronv3(\n",
       "  (OH): NN_OH(\n",
       "    (fc1): Linear(in_features=21, out_features=64, bias=True)\n",
       "    (fc2): Linear(in_features=64, out_features=64, bias=True)\n",
       "    (fc3): Linear(in_features=64, out_features=64, bias=True)\n",
       "    (fc4): Linear(in_features=64, out_features=4, bias=True)\n",
       "  )\n",
       "  (HR): NN_reward(\n",
       "    (fc1): Linear(in_features=4, out_features=64, bias=True)\n",
       "    (fc2): Linear(in_features=64, out_features=64, bias=True)\n",
       "    (fc3): Linear(in_features=64, out_features=3, bias=True)\n",
       "  )\n",
       "  (HV): NN_val(\n",
       "    (fc1): Linear(in_features=4, out_features=64, bias=True)\n",
       "    (fc2): Linear(in_features=64, out_features=64, bias=True)\n",
       "    (fc3): Linear(in_features=64, out_features=1, bias=True)\n",
       "  )\n",
       "  (HH): NN_HH(\n",
       "    (fc1): Linear(in_features=4, out_features=64, bias=True)\n",
       "    (fc2): Linear(in_features=64, out_features=64, bias=True)\n",
       "    (fc3): Linear(in_features=64, out_features=64, bias=True)\n",
       "    (fc4): Linear(in_features=64, out_features=4, bias=True)\n",
       "  )\n",
       ")"
      ]
     },
     "execution_count": 26,
     "metadata": {},
     "output_type": "execute_result"
    }
   ],
   "source": [
    "core"
   ]
  },
  {
   "cell_type": "code",
   "execution_count": 27,
   "metadata": {},
   "outputs": [
    {
     "name": "stdout",
     "output_type": "stream",
     "text": [
      "Loss after:0 iterations is :tensor(1.3713e+08, grad_fn=<MseLossBackward>)\n",
      "Loss after:1 iterations is :tensor(1.7089e+08, grad_fn=<MseLossBackward>)\n",
      "Loss after:2 iterations is :tensor(1.6720e+08, grad_fn=<MseLossBackward>)\n",
      "Loss after:3 iterations is :tensor(1.3428e+08, grad_fn=<MseLossBackward>)\n",
      "Loss after:4 iterations is :tensor(57703628., grad_fn=<MseLossBackward>)\n",
      "Loss after:5 iterations is :tensor(59418752., grad_fn=<MseLossBackward>)\n",
      "Loss after:6 iterations is :tensor(36567300., grad_fn=<MseLossBackward>)\n",
      "Loss after:7 iterations is :tensor(30435990., grad_fn=<MseLossBackward>)\n",
      "Loss after:8 iterations is :tensor(22525136., grad_fn=<MseLossBackward>)\n",
      "Loss after:9 iterations is :tensor(24604920., grad_fn=<MseLossBackward>)\n",
      "Loss after:10 iterations is :tensor(21452720., grad_fn=<MseLossBackward>)\n",
      "Loss after:11 iterations is :tensor(24313538., grad_fn=<MseLossBackward>)\n",
      "Loss after:12 iterations is :tensor(15356418., grad_fn=<MseLossBackward>)\n",
      "Loss after:13 iterations is :tensor(21014024., grad_fn=<MseLossBackward>)\n",
      "Loss after:14 iterations is :tensor(22298096., grad_fn=<MseLossBackward>)\n",
      "Loss after:15 iterations is :tensor(22546104., grad_fn=<MseLossBackward>)\n",
      "Loss after:16 iterations is :tensor(16874166., grad_fn=<MseLossBackward>)\n",
      "Loss after:17 iterations is :tensor(17111378., grad_fn=<MseLossBackward>)\n",
      "Loss after:18 iterations is :tensor(18927710., grad_fn=<MseLossBackward>)\n",
      "Loss after:19 iterations is :tensor(24402104., grad_fn=<MseLossBackward>)\n",
      "Loss after:20 iterations is :tensor(23003240., grad_fn=<MseLossBackward>)\n",
      "Loss after:21 iterations is :tensor(19916666., grad_fn=<MseLossBackward>)\n",
      "Loss after:22 iterations is :tensor(19416588., grad_fn=<MseLossBackward>)\n",
      "Loss after:23 iterations is :tensor(20840828., grad_fn=<MseLossBackward>)\n",
      "Loss after:24 iterations is :tensor(14893263., grad_fn=<MseLossBackward>)\n",
      "Loss after:25 iterations is :tensor(17535950., grad_fn=<MseLossBackward>)\n",
      "Loss after:26 iterations is :tensor(20981952., grad_fn=<MseLossBackward>)\n",
      "Loss after:27 iterations is :tensor(18023284., grad_fn=<MseLossBackward>)\n",
      "Loss after:28 iterations is :tensor(19855068., grad_fn=<MseLossBackward>)\n",
      "Loss after:29 iterations is :tensor(20085462., grad_fn=<MseLossBackward>)\n",
      "Loss after:30 iterations is :tensor(16752594., grad_fn=<MseLossBackward>)\n",
      "Loss after:31 iterations is :tensor(21090514., grad_fn=<MseLossBackward>)\n",
      "Loss after:32 iterations is :tensor(22934534., grad_fn=<MseLossBackward>)\n",
      "Loss after:33 iterations is :tensor(15032707., grad_fn=<MseLossBackward>)\n",
      "Loss after:34 iterations is :tensor(17644634., grad_fn=<MseLossBackward>)\n",
      "Loss after:35 iterations is :tensor(23205010., grad_fn=<MseLossBackward>)\n",
      "Loss after:36 iterations is :tensor(18158866., grad_fn=<MseLossBackward>)\n",
      "Loss after:37 iterations is :tensor(21004262., grad_fn=<MseLossBackward>)\n",
      "Loss after:38 iterations is :tensor(17074970., grad_fn=<MseLossBackward>)\n",
      "Loss after:39 iterations is :tensor(20085456., grad_fn=<MseLossBackward>)\n",
      "Loss after:40 iterations is :tensor(26966060., grad_fn=<MseLossBackward>)\n",
      "Loss after:41 iterations is :tensor(16783442., grad_fn=<MseLossBackward>)\n",
      "Loss after:42 iterations is :tensor(24243698., grad_fn=<MseLossBackward>)\n",
      "Loss after:43 iterations is :tensor(16056049., grad_fn=<MseLossBackward>)\n",
      "Loss after:44 iterations is :tensor(20658232., grad_fn=<MseLossBackward>)\n",
      "Loss after:45 iterations is :tensor(23089730., grad_fn=<MseLossBackward>)\n",
      "Loss after:46 iterations is :tensor(19336136., grad_fn=<MseLossBackward>)\n",
      "Loss after:47 iterations is :tensor(20584008., grad_fn=<MseLossBackward>)\n",
      "Loss after:48 iterations is :tensor(20366444., grad_fn=<MseLossBackward>)\n",
      "Loss after:49 iterations is :tensor(20211626., grad_fn=<MseLossBackward>)\n"
     ]
    }
   ],
   "source": [
    "n_epochs = 50 # or whatever\n",
    "batch_size = 256# or whatever\n",
    "losses=[]\n",
    "for epoch in range(n_epochs):\n",
    "\n",
    "    # x is our input\n",
    "    permutation = torch.randperm(x.size()[0])\n",
    "\n",
    "    for i in range(0,x.size()[0], batch_size):\n",
    "        optimizer.zero_grad()\n",
    "\n",
    "        indices = permutation[i:i+batch_size]\n",
    "        batch_x, batch_y = x[indices], y_target[indices]\n",
    "\n",
    "        # in case you wanted a semi-full example\n",
    "        outputs = core.forward(batch_x)\n",
    "        loss = loss_fn(outputs,batch_y)\n",
    "        optimizer.zero_grad()\n",
    "        loss.backward()\n",
    "        optimizer.step()\n",
    "    losses.append(loss.item())\n",
    "    print(\"Loss after:\"+str(epoch)+\" iterations is :\"+ str(loss))"
   ]
  },
  {
   "cell_type": "code",
   "execution_count": 28,
   "metadata": {},
   "outputs": [
    {
     "data": {
      "text/plain": [
       "Text(0.5, 1.0, 'Training Loss for Predictron with 10-step return')"
      ]
     },
     "execution_count": 28,
     "metadata": {},
     "output_type": "execute_result"
    },
    {
     "data": {
      "image/png": "[encoded data removed]",
      "text/plain": [
       "<Figure size 432x288 with 1 Axes>"
      ]
     },
     "metadata": {
      "needs_background": "light"
     },
     "output_type": "display_data"
    }
   ],
   "source": [
    "import matplotlib.pyplot as plt\n",
    "plt.plot(losses)\n",
    "plt.xlabel(\"No. of iterations\")\n",
    "plt.ylabel(\"Loss\")\n",
    "plt.title(\"Training Loss for Predictron with \"+str(k)+\"-step return\")"
   ]
  },
  {
   "cell_type": "code",
   "execution_count": 29,
   "metadata": {},
   "outputs": [
    {
     "name": "stdout",
     "output_type": "stream",
     "text": [
      "torch.Size([64, 21])\n",
      "torch.Size([64])\n",
      "torch.Size([64, 64])\n",
      "torch.Size([64])\n",
      "torch.Size([64, 64])\n",
      "torch.Size([64])\n",
      "torch.Size([4, 64])\n",
      "torch.Size([4])\n",
      "torch.Size([64, 4])\n",
      "torch.Size([64])\n",
      "torch.Size([64, 64])\n",
      "torch.Size([64])\n",
      "torch.Size([3, 64])\n",
      "torch.Size([3])\n",
      "torch.Size([64, 4])\n",
      "torch.Size([64])\n",
      "torch.Size([64, 64])\n",
      "torch.Size([64])\n",
      "torch.Size([1, 64])\n",
      "torch.Size([1])\n",
      "torch.Size([64, 4])\n",
      "torch.Size([64])\n",
      "torch.Size([64, 64])\n",
      "torch.Size([64])\n",
      "torch.Size([64, 64])\n",
      "torch.Size([64])\n",
      "torch.Size([4, 64])\n",
      "torch.Size([4])\n"
     ]
    }
   ],
   "source": [
    "for p in core.parameters():\n",
    "    print(p.shape)"
   ]
  },
  {
   "cell_type": "code",
   "execution_count": 30,
   "metadata": {},
   "outputs": [
    {
     "data": {
      "text/plain": [
       "tensor([[-0.3160, -1.3729,  1.0000,  ..., -0.7817,  1.3485,  1.1944],\n",
       "        [ 0.8727, -1.0317,  1.0000,  ..., -0.7817,  1.0165,  1.2369],\n",
       "        [-1.9618,  1.0157,  1.0000,  ..., -2.0730,  0.7399,  0.5034],\n",
       "        ...,\n",
       "        [ 0.1869, -0.0080,  1.0000,  ...,  3.0924, -2.0818, -3.2924],\n",
       "        [-0.4988,  1.0157,  1.0000,  ...,  1.1553, -2.9117, -2.0850],\n",
       "        [-1.4589, -1.7141,  1.0000,  ...,  1.8010, -2.4690, -2.1940]])"
      ]
     },
     "execution_count": 30,
     "metadata": {},
     "output_type": "execute_result"
    }
   ],
   "source": [
    "x"
   ]
  },
  {
   "cell_type": "markdown",
   "metadata": {},
   "source": [
    "## Testing"
   ]
  },
  {
   "cell_type": "code",
   "execution_count": 46,
   "metadata": {},
   "outputs": [],
   "source": [
    "df_test = preprocessing(\"../CMAPSSData/test_FD001.txt\")"
   ]
  },
  {
   "cell_type": "code",
   "execution_count": 47,
   "metadata": {},
   "outputs": [],
   "source": [
    "df_test = df_test.groupby('machine').last().reset_index()"
   ]
  },
  {
   "cell_type": "code",
   "execution_count": 48,
   "metadata": {},
   "outputs": [
    {
     "data": {
      "text/plain": [
       "(100, 24)"
      ]
     },
     "execution_count": 48,
     "metadata": {},
     "output_type": "execute_result"
    }
   ],
   "source": [
    "df_test.shape"
   ]
  },
  {
   "cell_type": "code",
   "execution_count": 49,
   "metadata": {},
   "outputs": [
    {
     "data": {
      "text/html": [
       "<div>\n",
       "<style scoped>\n",
       "    .dataframe tbody tr th:only-of-type {\n",
       "        vertical-align: middle;\n",
       "    }\n",
       "\n",
       "    .dataframe tbody tr th {\n",
       "        vertical-align: top;\n",
       "    }\n",
       "\n",
       "    .dataframe thead th {\n",
       "        text-align: right;\n",
       "    }\n",
       "</style>\n",
       "<table border=\"1\" class=\"dataframe\">\n",
       "  <thead>\n",
       "    <tr style=\"text-align: right;\">\n",
       "      <th></th>\n",
       "      <th>machine</th>\n",
       "      <th>time</th>\n",
       "      <th>2</th>\n",
       "      <th>3</th>\n",
       "      <th>5</th>\n",
       "      <th>6</th>\n",
       "      <th>7</th>\n",
       "      <th>8</th>\n",
       "      <th>9</th>\n",
       "      <th>10</th>\n",
       "      <th>...</th>\n",
       "      <th>15</th>\n",
       "      <th>16</th>\n",
       "      <th>17</th>\n",
       "      <th>18</th>\n",
       "      <th>19</th>\n",
       "      <th>20</th>\n",
       "      <th>21</th>\n",
       "      <th>24</th>\n",
       "      <th>25</th>\n",
       "      <th>MC_Val</th>\n",
       "    </tr>\n",
       "  </thead>\n",
       "  <tbody>\n",
       "    <tr>\n",
       "      <th>0</th>\n",
       "      <td>1</td>\n",
       "      <td>31</td>\n",
       "      <td>-0.267320</td>\n",
       "      <td>1.345990</td>\n",
       "      <td>0.999962</td>\n",
       "      <td>0.261692</td>\n",
       "      <td>-1.374941</td>\n",
       "      <td>-0.870977</td>\n",
       "      <td>0.999962</td>\n",
       "      <td>0.175653</td>\n",
       "      <td>...</td>\n",
       "      <td>-0.950423</td>\n",
       "      <td>0.075544</td>\n",
       "      <td>-0.193640</td>\n",
       "      <td>-0.867422</td>\n",
       "      <td>-0.808153</td>\n",
       "      <td>0.999962</td>\n",
       "      <td>0.347263</td>\n",
       "      <td>-0.582306</td>\n",
       "      <td>0.231303</td>\n",
       "      <td>0</td>\n",
       "    </tr>\n",
       "    <tr>\n",
       "      <th>1</th>\n",
       "      <td>2</td>\n",
       "      <td>49</td>\n",
       "      <td>0.822260</td>\n",
       "      <td>-0.354514</td>\n",
       "      <td>0.999962</td>\n",
       "      <td>0.186860</td>\n",
       "      <td>-0.301643</td>\n",
       "      <td>0.911237</td>\n",
       "      <td>0.999962</td>\n",
       "      <td>0.175653</td>\n",
       "      <td>...</td>\n",
       "      <td>1.295424</td>\n",
       "      <td>-0.013802</td>\n",
       "      <td>0.333283</td>\n",
       "      <td>-1.182480</td>\n",
       "      <td>0.849935</td>\n",
       "      <td>0.999962</td>\n",
       "      <td>-1.274039</td>\n",
       "      <td>-0.582306</td>\n",
       "      <td>-0.879011</td>\n",
       "      <td>0</td>\n",
       "    </tr>\n",
       "    <tr>\n",
       "      <th>2</th>\n",
       "      <td>3</td>\n",
       "      <td>126</td>\n",
       "      <td>-0.721311</td>\n",
       "      <td>1.345990</td>\n",
       "      <td>0.999962</td>\n",
       "      <td>1.010010</td>\n",
       "      <td>0.329943</td>\n",
       "      <td>2.116325</td>\n",
       "      <td>0.999962</td>\n",
       "      <td>0.175653</td>\n",
       "      <td>...</td>\n",
       "      <td>2.367305</td>\n",
       "      <td>-1.639885</td>\n",
       "      <td>1.211488</td>\n",
       "      <td>-0.734921</td>\n",
       "      <td>-0.480672</td>\n",
       "      <td>0.999962</td>\n",
       "      <td>1.968564</td>\n",
       "      <td>0.264669</td>\n",
       "      <td>-0.733981</td>\n",
       "      <td>0</td>\n",
       "    </tr>\n",
       "    <tr>\n",
       "      <th>3</th>\n",
       "      <td>4</td>\n",
       "      <td>106</td>\n",
       "      <td>0.549865</td>\n",
       "      <td>1.345990</td>\n",
       "      <td>0.999962</td>\n",
       "      <td>0.760570</td>\n",
       "      <td>1.285318</td>\n",
       "      <td>0.320655</td>\n",
       "      <td>0.999962</td>\n",
       "      <td>0.175653</td>\n",
       "      <td>...</td>\n",
       "      <td>1.193340</td>\n",
       "      <td>0.236365</td>\n",
       "      <td>0.684565</td>\n",
       "      <td>-0.520956</td>\n",
       "      <td>1.294619</td>\n",
       "      <td>0.999962</td>\n",
       "      <td>1.968564</td>\n",
       "      <td>-2.205674</td>\n",
       "      <td>-0.922996</td>\n",
       "      <td>0</td>\n",
       "    </tr>\n",
       "    <tr>\n",
       "      <th>4</th>\n",
       "      <td>5</td>\n",
       "      <td>98</td>\n",
       "      <td>-0.585114</td>\n",
       "      <td>-1.374816</td>\n",
       "      <td>0.999962</td>\n",
       "      <td>-0.511569</td>\n",
       "      <td>0.367918</td>\n",
       "      <td>2.186597</td>\n",
       "      <td>0.999962</td>\n",
       "      <td>0.175653</td>\n",
       "      <td>...</td>\n",
       "      <td>0.223542</td>\n",
       "      <td>-1.336111</td>\n",
       "      <td>1.387129</td>\n",
       "      <td>-1.296332</td>\n",
       "      <td>0.356990</td>\n",
       "      <td>0.999962</td>\n",
       "      <td>1.157913</td>\n",
       "      <td>-1.005793</td>\n",
       "      <td>0.902961</td>\n",
       "      <td>0</td>\n",
       "    </tr>\n",
       "  </tbody>\n",
       "</table>\n",
       "<p>5 rows × 24 columns</p>\n",
       "</div>"
      ],
      "text/plain": [
       "   machine  time         2         3         5         6         7         8  \\\n",
       "0        1    31 -0.267320  1.345990  0.999962  0.261692 -1.374941 -0.870977   \n",
       "1        2    49  0.822260 -0.354514  0.999962  0.186860 -0.301643  0.911237   \n",
       "2        3   126 -0.721311  1.345990  0.999962  1.010010  0.329943  2.116325   \n",
       "3        4   106  0.549865  1.345990  0.999962  0.760570  1.285318  0.320655   \n",
       "4        5    98 -0.585114 -1.374816  0.999962 -0.511569  0.367918  2.186597   \n",
       "\n",
       "          9        10  ...        15        16        17        18        19  \\\n",
       "0  0.999962  0.175653  ... -0.950423  0.075544 -0.193640 -0.867422 -0.808153   \n",
       "1  0.999962  0.175653  ...  1.295424 -0.013802  0.333283 -1.182480  0.849935   \n",
       "2  0.999962  0.175653  ...  2.367305 -1.639885  1.211488 -0.734921 -0.480672   \n",
       "3  0.999962  0.175653  ...  1.193340  0.236365  0.684565 -0.520956  1.294619   \n",
       "4  0.999962  0.175653  ...  0.223542 -1.336111  1.387129 -1.296332  0.356990   \n",
       "\n",
       "         20        21        24        25  MC_Val  \n",
       "0  0.999962  0.347263 -0.582306  0.231303       0  \n",
       "1  0.999962 -1.274039 -0.582306 -0.879011       0  \n",
       "2  0.999962  1.968564  0.264669 -0.733981       0  \n",
       "3  0.999962  1.968564 -2.205674 -0.922996       0  \n",
       "4  0.999962  1.157913 -1.005793  0.902961       0  \n",
       "\n",
       "[5 rows x 24 columns]"
      ]
     },
     "execution_count": 49,
     "metadata": {},
     "output_type": "execute_result"
    }
   ],
   "source": [
    "df_test.head()"
   ]
  },
  {
   "cell_type": "code",
   "execution_count": 50,
   "metadata": {},
   "outputs": [],
   "source": [
    "x_test, _ = getXY(df_test)"
   ]
  },
  {
   "cell_type": "code",
   "execution_count": 51,
   "metadata": {},
   "outputs": [
    {
     "data": {
      "text/plain": [
       "torch.Size([100, 21])"
      ]
     },
     "execution_count": 51,
     "metadata": {},
     "output_type": "execute_result"
    }
   ],
   "source": [
    "x_test.shape"
   ]
  },
  {
   "cell_type": "code",
   "execution_count": 52,
   "metadata": {},
   "outputs": [],
   "source": [
    "predict_test = core.forward(x_test)"
   ]
  },
  {
   "cell_type": "code",
   "execution_count": 53,
   "metadata": {},
   "outputs": [],
   "source": [
    "y_true = pd.read_csv(\"../CMAPSSData/RUL_FD001.txt\", header=None)"
   ]
  },
  {
   "cell_type": "code",
   "execution_count": 54,
   "metadata": {},
   "outputs": [],
   "source": [
    "y_true = torch.tensor(y_true.values)"
   ]
  },
  {
   "cell_type": "code",
   "execution_count": 55,
   "metadata": {},
   "outputs": [
    {
     "data": {
      "text/plain": [
       "torch.Size([100, 1])"
      ]
     },
     "execution_count": 55,
     "metadata": {},
     "output_type": "execute_result"
    }
   ],
   "source": [
    "y_true.shape"
   ]
  },
  {
   "cell_type": "code",
   "execution_count": 56,
   "metadata": {},
   "outputs": [
    {
     "data": {
      "text/plain": [
       "torch.Size([100, 1])"
      ]
     },
     "execution_count": 56,
     "metadata": {},
     "output_type": "execute_result"
    }
   ],
   "source": [
    "predict_test.shape"
   ]
  },
  {
   "cell_type": "code",
   "execution_count": 57,
   "metadata": {},
   "outputs": [
    {
     "data": {
      "text/plain": [
       "tensor(34.0100, grad_fn=<SqrtBackward>)"
      ]
     },
     "execution_count": 57,
     "metadata": {},
     "output_type": "execute_result"
    }
   ],
   "source": [
    "torch.sqrt(loss_fn(predict_test, y_true))"
   ]
  },
  {
   "cell_type": "code",
   "execution_count": 93,
   "metadata": {},
   "outputs": [
    {
     "data": {
      "text/plain": [
       "tensor(44.5717, grad_fn=<MulBackward0>)"
      ]
     },
     "execution_count": 93,
     "metadata": {},
     "output_type": "execute_result"
    }
   ],
   "source": [
    "torch.mean(torch.abs((y_true - predict_test) / y_true)) * 100"
   ]
  },
  {
   "cell_type": "code",
   "execution_count": 58,
   "metadata": {},
   "outputs": [
    {
     "name": "stdout",
     "output_type": "stream",
     "text": [
      "tensor([[-47.8554],\n",
      "        [ -4.1628],\n",
      "        [ 48.2545],\n",
      "        [ 39.0785],\n",
      "        [ 22.7081],\n",
      "        [ 20.9547],\n",
      "        [ 33.0081],\n",
      "        [ 52.1244],\n",
      "        [ 61.5166],\n",
      "        [ 35.6738],\n",
      "        [ 76.0639],\n",
      "        [ 76.1505],\n",
      "        [ 47.2726],\n",
      "        [ 31.4925],\n",
      "        [-44.6746],\n",
      "        [-15.0775],\n",
      "        [ 28.8472],\n",
      "        [  9.8035],\n",
      "        [ -5.2680],\n",
      "        [ 12.2122],\n",
      "        [ 25.1688],\n",
      "        [ -5.9377],\n",
      "        [-40.3477],\n",
      "        [ 15.3612],\n",
      "        [ 15.0926],\n",
      "        [ 40.9274],\n",
      "        [-38.8868],\n",
      "        [ 42.3599],\n",
      "        [ 22.7520],\n",
      "        [ 61.8736],\n",
      "        [  5.0101],\n",
      "        [ 23.2236],\n",
      "        [ 54.9975],\n",
      "        [  4.0460],\n",
      "        [  8.0769],\n",
      "        [  9.0932],\n",
      "        [  0.1891],\n",
      "        [ 21.7267],\n",
      "        [ 25.6575],\n",
      "        [ 19.5263],\n",
      "        [ -7.2413],\n",
      "        [  5.3423],\n",
      "        [ 32.8782],\n",
      "        [ 34.9634],\n",
      "        [ 88.6632],\n",
      "        [ 21.2578],\n",
      "        [ 35.6777],\n",
      "        [ 14.9033],\n",
      "        [ 17.1988],\n",
      "        [-15.8045],\n",
      "        [ 44.3949],\n",
      "        [ 22.6773],\n",
      "        [ 15.3732],\n",
      "        [-45.8503],\n",
      "        [ 11.4587],\n",
      "        [  9.8317],\n",
      "        [ 58.4841],\n",
      "        [ 22.1285],\n",
      "        [-53.2865],\n",
      "        [ 22.2993],\n",
      "        [  9.6363],\n",
      "        [ 23.5886],\n",
      "        [ 46.0322],\n",
      "        [ 11.7022],\n",
      "        [ 31.6286],\n",
      "        [ 11.5755],\n",
      "        [-27.7319],\n",
      "        [  5.1786],\n",
      "        [  4.6884],\n",
      "        [ 36.3909],\n",
      "        [ 27.9251],\n",
      "        [  4.6826],\n",
      "        [-21.3008],\n",
      "        [ 65.0525],\n",
      "        [-40.2056],\n",
      "        [  8.1037],\n",
      "        [ 26.0027],\n",
      "        [-60.6073],\n",
      "        [ -7.0242],\n",
      "        [ 44.3336],\n",
      "        [  6.3278],\n",
      "        [  6.7111],\n",
      "        [ 42.1728],\n",
      "        [ 38.7743],\n",
      "        [ 10.4269],\n",
      "        [ 40.9674],\n",
      "        [ -6.3416],\n",
      "        [ 17.6231],\n",
      "        [ 65.5875],\n",
      "        [ 19.5181],\n",
      "        [ 32.0779],\n",
      "        [ 14.5941],\n",
      "        [ 62.3799],\n",
      "        [ 32.2242],\n",
      "        [ -0.6291],\n",
      "        [ 11.6865],\n",
      "        [ 38.2810],\n",
      "        [ 25.6611],\n",
      "        [ 22.0948],\n",
      "        [ 18.2775]], grad_fn=<SubBackward0>)\n"
     ]
    }
   ],
   "source": [
    "print(y_true-predict_test)"
   ]
  },
  {
   "cell_type": "markdown",
   "metadata": {},
   "source": [
    "# Accessing the trained Predictron Core"
   ]
  },
  {
   "cell_type": "code",
   "execution_count": 59,
   "metadata": {},
   "outputs": [
    {
     "data": {
      "text/plain": [
       "Predictronv3(\n",
       "  (OH): NN_OH(\n",
       "    (fc1): Linear(in_features=21, out_features=64, bias=True)\n",
       "    (fc2): Linear(in_features=64, out_features=64, bias=True)\n",
       "    (fc3): Linear(in_features=64, out_features=64, bias=True)\n",
       "    (fc4): Linear(in_features=64, out_features=4, bias=True)\n",
       "  )\n",
       "  (HR): NN_reward(\n",
       "    (fc1): Linear(in_features=4, out_features=64, bias=True)\n",
       "    (fc2): Linear(in_features=64, out_features=64, bias=True)\n",
       "    (fc3): Linear(in_features=64, out_features=3, bias=True)\n",
       "  )\n",
       "  (HV): NN_val(\n",
       "    (fc1): Linear(in_features=4, out_features=64, bias=True)\n",
       "    (fc2): Linear(in_features=64, out_features=64, bias=True)\n",
       "    (fc3): Linear(in_features=64, out_features=1, bias=True)\n",
       "  )\n",
       "  (HH): NN_HH(\n",
       "    (fc1): Linear(in_features=4, out_features=64, bias=True)\n",
       "    (fc2): Linear(in_features=64, out_features=64, bias=True)\n",
       "    (fc3): Linear(in_features=64, out_features=64, bias=True)\n",
       "    (fc4): Linear(in_features=64, out_features=4, bias=True)\n",
       "  )\n",
       ")"
      ]
     },
     "execution_count": 59,
     "metadata": {},
     "output_type": "execute_result"
    }
   ],
   "source": [
    "core"
   ]
  },
  {
   "cell_type": "code",
   "execution_count": 62,
   "metadata": {},
   "outputs": [],
   "source": [
    "df_train1 = preprocessing(\"../CMAPSSData/train_FD001.txt\")"
   ]
  },
  {
   "cell_type": "code",
   "execution_count": 74,
   "metadata": {},
   "outputs": [
    {
     "data": {
      "text/html": [
       "<div>\n",
       "<style scoped>\n",
       "    .dataframe tbody tr th:only-of-type {\n",
       "        vertical-align: middle;\n",
       "    }\n",
       "\n",
       "    .dataframe tbody tr th {\n",
       "        vertical-align: top;\n",
       "    }\n",
       "\n",
       "    .dataframe thead th {\n",
       "        text-align: right;\n",
       "    }\n",
       "</style>\n",
       "<table border=\"1\" class=\"dataframe\">\n",
       "  <thead>\n",
       "    <tr style=\"text-align: right;\">\n",
       "      <th></th>\n",
       "      <th>machine</th>\n",
       "      <th>time</th>\n",
       "      <th>2</th>\n",
       "      <th>3</th>\n",
       "      <th>5</th>\n",
       "      <th>6</th>\n",
       "      <th>7</th>\n",
       "      <th>8</th>\n",
       "      <th>9</th>\n",
       "      <th>10</th>\n",
       "      <th>...</th>\n",
       "      <th>15</th>\n",
       "      <th>16</th>\n",
       "      <th>17</th>\n",
       "      <th>18</th>\n",
       "      <th>19</th>\n",
       "      <th>20</th>\n",
       "      <th>21</th>\n",
       "      <th>24</th>\n",
       "      <th>25</th>\n",
       "      <th>MC_Val</th>\n",
       "    </tr>\n",
       "  </thead>\n",
       "  <tbody>\n",
       "    <tr>\n",
       "      <th>0</th>\n",
       "      <td>1</td>\n",
       "      <td>1</td>\n",
       "      <td>-0.315972</td>\n",
       "      <td>-1.372920</td>\n",
       "      <td>0.999976</td>\n",
       "      <td>-1.721684</td>\n",
       "      <td>-0.134252</td>\n",
       "      <td>-0.925914</td>\n",
       "      <td>0.999976</td>\n",
       "      <td>0.14168</td>\n",
       "      <td>...</td>\n",
       "      <td>-0.266460</td>\n",
       "      <td>0.334254</td>\n",
       "      <td>-1.058865</td>\n",
       "      <td>-0.269065</td>\n",
       "      <td>-0.603801</td>\n",
       "      <td>0.999976</td>\n",
       "      <td>-0.781691</td>\n",
       "      <td>1.348460</td>\n",
       "      <td>1.194398</td>\n",
       "      <td>191</td>\n",
       "    </tr>\n",
       "    <tr>\n",
       "      <th>1</th>\n",
       "      <td>1</td>\n",
       "      <td>2</td>\n",
       "      <td>0.872701</td>\n",
       "      <td>-1.031695</td>\n",
       "      <td>0.999976</td>\n",
       "      <td>-1.061754</td>\n",
       "      <td>0.211523</td>\n",
       "      <td>-0.643710</td>\n",
       "      <td>0.999976</td>\n",
       "      <td>0.14168</td>\n",
       "      <td>...</td>\n",
       "      <td>-0.191578</td>\n",
       "      <td>1.174871</td>\n",
       "      <td>-0.363637</td>\n",
       "      <td>-0.642829</td>\n",
       "      <td>-0.275845</td>\n",
       "      <td>0.999976</td>\n",
       "      <td>-0.781691</td>\n",
       "      <td>1.016503</td>\n",
       "      <td>1.236892</td>\n",
       "      <td>190</td>\n",
       "    </tr>\n",
       "    <tr>\n",
       "      <th>2</th>\n",
       "      <td>1</td>\n",
       "      <td>3</td>\n",
       "      <td>-1.961827</td>\n",
       "      <td>1.015652</td>\n",
       "      <td>0.999976</td>\n",
       "      <td>-0.661797</td>\n",
       "      <td>-0.413156</td>\n",
       "      <td>-0.525940</td>\n",
       "      <td>0.999976</td>\n",
       "      <td>0.14168</td>\n",
       "      <td>...</td>\n",
       "      <td>-1.015279</td>\n",
       "      <td>1.364688</td>\n",
       "      <td>-0.919819</td>\n",
       "      <td>-0.551616</td>\n",
       "      <td>-0.649128</td>\n",
       "      <td>0.999976</td>\n",
       "      <td>-2.073044</td>\n",
       "      <td>0.739873</td>\n",
       "      <td>0.503411</td>\n",
       "      <td>189</td>\n",
       "    </tr>\n",
       "    <tr>\n",
       "      <th>3</th>\n",
       "      <td>1</td>\n",
       "      <td>4</td>\n",
       "      <td>0.324083</td>\n",
       "      <td>-0.008022</td>\n",
       "      <td>0.999976</td>\n",
       "      <td>-0.661797</td>\n",
       "      <td>-1.261284</td>\n",
       "      <td>-0.784812</td>\n",
       "      <td>0.999976</td>\n",
       "      <td>0.14168</td>\n",
       "      <td>...</td>\n",
       "      <td>-1.539452</td>\n",
       "      <td>1.961255</td>\n",
       "      <td>-0.224592</td>\n",
       "      <td>-0.520163</td>\n",
       "      <td>-1.971617</td>\n",
       "      <td>0.999976</td>\n",
       "      <td>-0.781691</td>\n",
       "      <td>0.352590</td>\n",
       "      <td>0.777773</td>\n",
       "      <td>188</td>\n",
       "    </tr>\n",
       "    <tr>\n",
       "      <th>4</th>\n",
       "      <td>1</td>\n",
       "      <td>5</td>\n",
       "      <td>-0.864590</td>\n",
       "      <td>-0.690471</td>\n",
       "      <td>0.999976</td>\n",
       "      <td>-0.621801</td>\n",
       "      <td>-1.251498</td>\n",
       "      <td>-0.301511</td>\n",
       "      <td>0.999976</td>\n",
       "      <td>0.14168</td>\n",
       "      <td>...</td>\n",
       "      <td>-0.977838</td>\n",
       "      <td>1.052846</td>\n",
       "      <td>-0.780774</td>\n",
       "      <td>-0.521736</td>\n",
       "      <td>-0.339837</td>\n",
       "      <td>0.999976</td>\n",
       "      <td>-0.136014</td>\n",
       "      <td>0.463242</td>\n",
       "      <td>1.059526</td>\n",
       "      <td>187</td>\n",
       "    </tr>\n",
       "  </tbody>\n",
       "</table>\n",
       "<p>5 rows × 24 columns</p>\n",
       "</div>"
      ],
      "text/plain": [
       "   machine  time         2         3         5         6         7         8  \\\n",
       "0        1     1 -0.315972 -1.372920  0.999976 -1.721684 -0.134252 -0.925914   \n",
       "1        1     2  0.872701 -1.031695  0.999976 -1.061754  0.211523 -0.643710   \n",
       "2        1     3 -1.961827  1.015652  0.999976 -0.661797 -0.413156 -0.525940   \n",
       "3        1     4  0.324083 -0.008022  0.999976 -0.661797 -1.261284 -0.784812   \n",
       "4        1     5 -0.864590 -0.690471  0.999976 -0.621801 -1.251498 -0.301511   \n",
       "\n",
       "          9       10  ...        15        16        17        18        19  \\\n",
       "0  0.999976  0.14168  ... -0.266460  0.334254 -1.058865 -0.269065 -0.603801   \n",
       "1  0.999976  0.14168  ... -0.191578  1.174871 -0.363637 -0.642829 -0.275845   \n",
       "2  0.999976  0.14168  ... -1.015279  1.364688 -0.919819 -0.551616 -0.649128   \n",
       "3  0.999976  0.14168  ... -1.539452  1.961255 -0.224592 -0.520163 -1.971617   \n",
       "4  0.999976  0.14168  ... -0.977838  1.052846 -0.780774 -0.521736 -0.339837   \n",
       "\n",
       "         20        21        24        25  MC_Val  \n",
       "0  0.999976 -0.781691  1.348460  1.194398     191  \n",
       "1  0.999976 -0.781691  1.016503  1.236892     190  \n",
       "2  0.999976 -2.073044  0.739873  0.503411     189  \n",
       "3  0.999976 -0.781691  0.352590  0.777773     188  \n",
       "4  0.999976 -0.136014  0.463242  1.059526     187  \n",
       "\n",
       "[5 rows x 24 columns]"
      ]
     },
     "execution_count": 74,
     "metadata": {},
     "output_type": "execute_result"
    }
   ],
   "source": [
    "df_train1.head()"
   ]
  },
  {
   "cell_type": "code",
   "execution_count": 70,
   "metadata": {},
   "outputs": [
    {
     "data": {
      "text/html": [
       "<div>\n",
       "<style scoped>\n",
       "    .dataframe tbody tr th:only-of-type {\n",
       "        vertical-align: middle;\n",
       "    }\n",
       "\n",
       "    .dataframe tbody tr th {\n",
       "        vertical-align: top;\n",
       "    }\n",
       "\n",
       "    .dataframe thead th {\n",
       "        text-align: right;\n",
       "    }\n",
       "</style>\n",
       "<table border=\"1\" class=\"dataframe\">\n",
       "  <thead>\n",
       "    <tr style=\"text-align: right;\">\n",
       "      <th></th>\n",
       "      <th>time</th>\n",
       "      <th>2</th>\n",
       "      <th>3</th>\n",
       "      <th>5</th>\n",
       "      <th>6</th>\n",
       "      <th>7</th>\n",
       "      <th>8</th>\n",
       "      <th>9</th>\n",
       "      <th>10</th>\n",
       "      <th>11</th>\n",
       "      <th>...</th>\n",
       "      <th>15</th>\n",
       "      <th>16</th>\n",
       "      <th>17</th>\n",
       "      <th>18</th>\n",
       "      <th>19</th>\n",
       "      <th>20</th>\n",
       "      <th>21</th>\n",
       "      <th>24</th>\n",
       "      <th>25</th>\n",
       "      <th>MC_Val</th>\n",
       "    </tr>\n",
       "    <tr>\n",
       "      <th>machine</th>\n",
       "      <th></th>\n",
       "      <th></th>\n",
       "      <th></th>\n",
       "      <th></th>\n",
       "      <th></th>\n",
       "      <th></th>\n",
       "      <th></th>\n",
       "      <th></th>\n",
       "      <th></th>\n",
       "      <th></th>\n",
       "      <th></th>\n",
       "      <th></th>\n",
       "      <th></th>\n",
       "      <th></th>\n",
       "      <th></th>\n",
       "      <th></th>\n",
       "      <th></th>\n",
       "      <th></th>\n",
       "      <th></th>\n",
       "      <th></th>\n",
       "      <th></th>\n",
       "    </tr>\n",
       "  </thead>\n",
       "  <tbody>\n",
       "    <tr>\n",
       "      <th>1</th>\n",
       "      <td>192</td>\n",
       "      <td>0.415519</td>\n",
       "      <td>-0.008022</td>\n",
       "      <td>0.999976</td>\n",
       "      <td>1.717950</td>\n",
       "      <td>1.775667</td>\n",
       "      <td>2.029443</td>\n",
       "      <td>0.999976</td>\n",
       "      <td>0.14168</td>\n",
       "      <td>-2.392645</td>\n",
       "      <td>...</td>\n",
       "      <td>2.653932</td>\n",
       "      <td>-1.807964</td>\n",
       "      <td>3.112500</td>\n",
       "      <td>-1.720613</td>\n",
       "      <td>1.843870</td>\n",
       "      <td>0.999976</td>\n",
       "      <td>1.801015</td>\n",
       "      <td>-1.860455</td>\n",
       "      <td>-3.000487</td>\n",
       "      <td>0</td>\n",
       "    </tr>\n",
       "    <tr>\n",
       "      <th>2</th>\n",
       "      <td>287</td>\n",
       "      <td>-0.224536</td>\n",
       "      <td>2.039326</td>\n",
       "      <td>0.999976</td>\n",
       "      <td>2.337884</td>\n",
       "      <td>2.932057</td>\n",
       "      <td>2.433861</td>\n",
       "      <td>0.999976</td>\n",
       "      <td>0.14168</td>\n",
       "      <td>-1.929416</td>\n",
       "      <td>...</td>\n",
       "      <td>2.167200</td>\n",
       "      <td>-2.174039</td>\n",
       "      <td>1.583000</td>\n",
       "      <td>1.667906</td>\n",
       "      <td>2.515780</td>\n",
       "      <td>0.999976</td>\n",
       "      <td>3.092369</td>\n",
       "      <td>-2.137086</td>\n",
       "      <td>-1.892875</td>\n",
       "      <td>0</td>\n",
       "    </tr>\n",
       "    <tr>\n",
       "      <th>3</th>\n",
       "      <td>179</td>\n",
       "      <td>0.552673</td>\n",
       "      <td>-0.008022</td>\n",
       "      <td>0.999976</td>\n",
       "      <td>1.657956</td>\n",
       "      <td>2.328582</td>\n",
       "      <td>2.143880</td>\n",
       "      <td>0.999976</td>\n",
       "      <td>0.14168</td>\n",
       "      <td>-1.646960</td>\n",
       "      <td>...</td>\n",
       "      <td>2.054877</td>\n",
       "      <td>-2.553673</td>\n",
       "      <td>1.443954</td>\n",
       "      <td>5.849562</td>\n",
       "      <td>1.691891</td>\n",
       "      <td>0.999976</td>\n",
       "      <td>3.092369</td>\n",
       "      <td>-2.303064</td>\n",
       "      <td>-3.080856</td>\n",
       "      <td>0</td>\n",
       "    </tr>\n",
       "    <tr>\n",
       "      <th>4</th>\n",
       "      <td>189</td>\n",
       "      <td>-1.093181</td>\n",
       "      <td>-0.690471</td>\n",
       "      <td>0.999976</td>\n",
       "      <td>3.697739</td>\n",
       "      <td>3.520854</td>\n",
       "      <td>2.623848</td>\n",
       "      <td>0.999976</td>\n",
       "      <td>0.14168</td>\n",
       "      <td>-1.624363</td>\n",
       "      <td>...</td>\n",
       "      <td>2.279523</td>\n",
       "      <td>-2.133364</td>\n",
       "      <td>0.887772</td>\n",
       "      <td>6.063442</td>\n",
       "      <td>2.198489</td>\n",
       "      <td>0.999976</td>\n",
       "      <td>3.092369</td>\n",
       "      <td>-2.081760</td>\n",
       "      <td>-1.746918</td>\n",
       "      <td>0</td>\n",
       "    </tr>\n",
       "    <tr>\n",
       "      <th>5</th>\n",
       "      <td>269</td>\n",
       "      <td>1.009855</td>\n",
       "      <td>1.015652</td>\n",
       "      <td>0.999976</td>\n",
       "      <td>1.557967</td>\n",
       "      <td>1.102058</td>\n",
       "      <td>2.422750</td>\n",
       "      <td>0.999976</td>\n",
       "      <td>0.14168</td>\n",
       "      <td>-2.934961</td>\n",
       "      <td>...</td>\n",
       "      <td>2.691373</td>\n",
       "      <td>-2.106248</td>\n",
       "      <td>0.887772</td>\n",
       "      <td>3.616934</td>\n",
       "      <td>2.099836</td>\n",
       "      <td>0.999976</td>\n",
       "      <td>2.446692</td>\n",
       "      <td>-2.026434</td>\n",
       "      <td>-2.402801</td>\n",
       "      <td>0</td>\n",
       "    </tr>\n",
       "    <tr>\n",
       "      <th>...</th>\n",
       "      <td>...</td>\n",
       "      <td>...</td>\n",
       "      <td>...</td>\n",
       "      <td>...</td>\n",
       "      <td>...</td>\n",
       "      <td>...</td>\n",
       "      <td>...</td>\n",
       "      <td>...</td>\n",
       "      <td>...</td>\n",
       "      <td>...</td>\n",
       "      <td>...</td>\n",
       "      <td>...</td>\n",
       "      <td>...</td>\n",
       "      <td>...</td>\n",
       "      <td>...</td>\n",
       "      <td>...</td>\n",
       "      <td>...</td>\n",
       "      <td>...</td>\n",
       "      <td>...</td>\n",
       "      <td>...</td>\n",
       "      <td>...</td>\n",
       "    </tr>\n",
       "    <tr>\n",
       "      <th>96</th>\n",
       "      <td>336</td>\n",
       "      <td>-1.413208</td>\n",
       "      <td>-1.714145</td>\n",
       "      <td>0.999976</td>\n",
       "      <td>2.117907</td>\n",
       "      <td>1.415213</td>\n",
       "      <td>2.576073</td>\n",
       "      <td>0.999976</td>\n",
       "      <td>0.14168</td>\n",
       "      <td>-2.923663</td>\n",
       "      <td>...</td>\n",
       "      <td>2.354405</td>\n",
       "      <td>-3.028215</td>\n",
       "      <td>2.000136</td>\n",
       "      <td>0.014535</td>\n",
       "      <td>1.601236</td>\n",
       "      <td>0.999976</td>\n",
       "      <td>2.446692</td>\n",
       "      <td>-2.524369</td>\n",
       "      <td>-2.437905</td>\n",
       "      <td>0</td>\n",
       "    </tr>\n",
       "    <tr>\n",
       "      <th>97</th>\n",
       "      <td>202</td>\n",
       "      <td>0.644110</td>\n",
       "      <td>0.333203</td>\n",
       "      <td>0.999976</td>\n",
       "      <td>2.217897</td>\n",
       "      <td>3.284357</td>\n",
       "      <td>2.052775</td>\n",
       "      <td>0.999976</td>\n",
       "      <td>0.14168</td>\n",
       "      <td>-2.053697</td>\n",
       "      <td>...</td>\n",
       "      <td>1.493263</td>\n",
       "      <td>-2.038456</td>\n",
       "      <td>0.748727</td>\n",
       "      <td>6.284136</td>\n",
       "      <td>2.281145</td>\n",
       "      <td>0.999976</td>\n",
       "      <td>2.446692</td>\n",
       "      <td>-2.911652</td>\n",
       "      <td>-1.582485</td>\n",
       "      <td>0</td>\n",
       "    </tr>\n",
       "    <tr>\n",
       "      <th>98</th>\n",
       "      <td>156</td>\n",
       "      <td>3.524355</td>\n",
       "      <td>-1.031695</td>\n",
       "      <td>0.999976</td>\n",
       "      <td>0.678061</td>\n",
       "      <td>2.160587</td>\n",
       "      <td>2.580518</td>\n",
       "      <td>0.999976</td>\n",
       "      <td>0.14168</td>\n",
       "      <td>-2.087592</td>\n",
       "      <td>...</td>\n",
       "      <td>2.803696</td>\n",
       "      <td>-2.526556</td>\n",
       "      <td>2.278227</td>\n",
       "      <td>-1.128776</td>\n",
       "      <td>2.363800</td>\n",
       "      <td>0.999976</td>\n",
       "      <td>1.801015</td>\n",
       "      <td>-2.690347</td>\n",
       "      <td>-1.625902</td>\n",
       "      <td>0</td>\n",
       "    </tr>\n",
       "    <tr>\n",
       "      <th>99</th>\n",
       "      <td>185</td>\n",
       "      <td>-0.864590</td>\n",
       "      <td>-1.372920</td>\n",
       "      <td>0.999976</td>\n",
       "      <td>2.497867</td>\n",
       "      <td>1.287994</td>\n",
       "      <td>1.402819</td>\n",
       "      <td>0.999976</td>\n",
       "      <td>0.14168</td>\n",
       "      <td>-3.081838</td>\n",
       "      <td>...</td>\n",
       "      <td>2.803696</td>\n",
       "      <td>-1.929989</td>\n",
       "      <td>2.000136</td>\n",
       "      <td>-0.850418</td>\n",
       "      <td>2.675758</td>\n",
       "      <td>0.999976</td>\n",
       "      <td>2.446692</td>\n",
       "      <td>-1.805129</td>\n",
       "      <td>-0.892421</td>\n",
       "      <td>0</td>\n",
       "    </tr>\n",
       "    <tr>\n",
       "      <th>100</th>\n",
       "      <td>200</td>\n",
       "      <td>-1.458927</td>\n",
       "      <td>-1.714145</td>\n",
       "      <td>0.999976</td>\n",
       "      <td>2.337884</td>\n",
       "      <td>1.607673</td>\n",
       "      <td>2.578295</td>\n",
       "      <td>0.999976</td>\n",
       "      <td>0.14168</td>\n",
       "      <td>-2.912364</td>\n",
       "      <td>...</td>\n",
       "      <td>2.466728</td>\n",
       "      <td>-2.865515</td>\n",
       "      <td>2.278227</td>\n",
       "      <td>-0.336688</td>\n",
       "      <td>1.638564</td>\n",
       "      <td>0.999976</td>\n",
       "      <td>1.801015</td>\n",
       "      <td>-2.469043</td>\n",
       "      <td>-2.194027</td>\n",
       "      <td>0</td>\n",
       "    </tr>\n",
       "  </tbody>\n",
       "</table>\n",
       "<p>100 rows × 23 columns</p>\n",
       "</div>"
      ],
      "text/plain": [
       "         time         2         3         5         6         7         8  \\\n",
       "machine                                                                     \n",
       "1         192  0.415519 -0.008022  0.999976  1.717950  1.775667  2.029443   \n",
       "2         287 -0.224536  2.039326  0.999976  2.337884  2.932057  2.433861   \n",
       "3         179  0.552673 -0.008022  0.999976  1.657956  2.328582  2.143880   \n",
       "4         189 -1.093181 -0.690471  0.999976  3.697739  3.520854  2.623848   \n",
       "5         269  1.009855  1.015652  0.999976  1.557967  1.102058  2.422750   \n",
       "...       ...       ...       ...       ...       ...       ...       ...   \n",
       "96        336 -1.413208 -1.714145  0.999976  2.117907  1.415213  2.576073   \n",
       "97        202  0.644110  0.333203  0.999976  2.217897  3.284357  2.052775   \n",
       "98        156  3.524355 -1.031695  0.999976  0.678061  2.160587  2.580518   \n",
       "99        185 -0.864590 -1.372920  0.999976  2.497867  1.287994  1.402819   \n",
       "100       200 -1.458927 -1.714145  0.999976  2.337884  1.607673  2.578295   \n",
       "\n",
       "                9       10        11  ...        15        16        17  \\\n",
       "machine                               ...                                 \n",
       "1        0.999976  0.14168 -2.392645  ...  2.653932 -1.807964  3.112500   \n",
       "2        0.999976  0.14168 -1.929416  ...  2.167200 -2.174039  1.583000   \n",
       "3        0.999976  0.14168 -1.646960  ...  2.054877 -2.553673  1.443954   \n",
       "4        0.999976  0.14168 -1.624363  ...  2.279523 -2.133364  0.887772   \n",
       "5        0.999976  0.14168 -2.934961  ...  2.691373 -2.106248  0.887772   \n",
       "...           ...      ...       ...  ...       ...       ...       ...   \n",
       "96       0.999976  0.14168 -2.923663  ...  2.354405 -3.028215  2.000136   \n",
       "97       0.999976  0.14168 -2.053697  ...  1.493263 -2.038456  0.748727   \n",
       "98       0.999976  0.14168 -2.087592  ...  2.803696 -2.526556  2.278227   \n",
       "99       0.999976  0.14168 -3.081838  ...  2.803696 -1.929989  2.000136   \n",
       "100      0.999976  0.14168 -2.912364  ...  2.466728 -2.865515  2.278227   \n",
       "\n",
       "               18        19        20        21        24        25  MC_Val  \n",
       "machine                                                                      \n",
       "1       -1.720613  1.843870  0.999976  1.801015 -1.860455 -3.000487       0  \n",
       "2        1.667906  2.515780  0.999976  3.092369 -2.137086 -1.892875       0  \n",
       "3        5.849562  1.691891  0.999976  3.092369 -2.303064 -3.080856       0  \n",
       "4        6.063442  2.198489  0.999976  3.092369 -2.081760 -1.746918       0  \n",
       "5        3.616934  2.099836  0.999976  2.446692 -2.026434 -2.402801       0  \n",
       "...           ...       ...       ...       ...       ...       ...     ...  \n",
       "96       0.014535  1.601236  0.999976  2.446692 -2.524369 -2.437905       0  \n",
       "97       6.284136  2.281145  0.999976  2.446692 -2.911652 -1.582485       0  \n",
       "98      -1.128776  2.363800  0.999976  1.801015 -2.690347 -1.625902       0  \n",
       "99      -0.850418  2.675758  0.999976  2.446692 -1.805129 -0.892421       0  \n",
       "100     -0.336688  1.638564  0.999976  1.801015 -2.469043 -2.194027       0  \n",
       "\n",
       "[100 rows x 23 columns]"
      ]
     },
     "execution_count": 70,
     "metadata": {},
     "output_type": "execute_result"
    }
   ],
   "source": [
    "df_train1.groupby('machine').last()"
   ]
  },
  {
   "cell_type": "code",
   "execution_count": 89,
   "metadata": {},
   "outputs": [
    {
     "data": {
      "text/plain": [
       "machine      4.000000\n",
       "time       189.000000\n",
       "2           -1.093181\n",
       "3           -0.690471\n",
       "5            0.999976\n",
       "6            3.697739\n",
       "7            3.520854\n",
       "8            2.623848\n",
       "9            0.999976\n",
       "10           0.141680\n",
       "11          -1.624363\n",
       "12           0.469791\n",
       "13           6.026255\n",
       "14           0.999976\n",
       "15           2.279523\n",
       "16          -2.133364\n",
       "17           0.887772\n",
       "18           6.063442\n",
       "19           2.198489\n",
       "20           0.999976\n",
       "21           3.092369\n",
       "24          -2.081760\n",
       "25          -1.746918\n",
       "MC_Val       0.000000\n",
       "Name: 846, dtype: float64"
      ]
     },
     "execution_count": 89,
     "metadata": {},
     "output_type": "execute_result"
    }
   ],
   "source": [
    "df_train1.iloc[846,:]"
   ]
  },
  {
   "cell_type": "code",
   "execution_count": 66,
   "metadata": {},
   "outputs": [],
   "source": [
    "x_t1, y_t1 = getXY(df_train1)"
   ]
  },
  {
   "cell_type": "code",
   "execution_count": 73,
   "metadata": {},
   "outputs": [
    {
     "data": {
      "text/plain": [
       "tensor([-0.3160, -1.3729,  1.0000, -1.7217, -0.1343, -0.9259,  1.0000,  0.1417,\n",
       "         1.1211, -0.5163, -0.8628,  1.0000, -0.2665,  0.3343, -1.0589, -0.2691,\n",
       "        -0.6038,  1.0000, -0.7817,  1.3485,  1.1944])"
      ]
     },
     "execution_count": 73,
     "metadata": {},
     "output_type": "execute_result"
    }
   ],
   "source": [
    "x_t1[0]"
   ]
  },
  {
   "cell_type": "code",
   "execution_count": 67,
   "metadata": {},
   "outputs": [
    {
     "name": "stdout",
     "output_type": "stream",
     "text": [
      "tensor([[0.3774, 0.5327, 0.0854, 0.0045]], grad_fn=<SoftmaxBackward>)\n"
     ]
    }
   ],
   "source": [
    "healthy1 = core.OH(x_t1[0].reshape(1,-1))\n",
    "print(healthy1)"
   ]
  },
  {
   "cell_type": "code",
   "execution_count": 75,
   "metadata": {},
   "outputs": [
    {
     "data": {
      "text/plain": [
       "tensor([ 0.4155, -0.0080,  1.0000,  1.7179,  1.7757,  2.0294,  1.0000,  0.1417,\n",
       "        -2.3926,  3.1464, -1.4501,  1.0000,  2.6539, -1.8080,  3.1125, -1.7206,\n",
       "         1.8439,  1.0000,  1.8010, -1.8605, -3.0005])"
      ]
     },
     "execution_count": 75,
     "metadata": {},
     "output_type": "execute_result"
    }
   ],
   "source": [
    "x_t1[191]"
   ]
  },
  {
   "cell_type": "code",
   "execution_count": 71,
   "metadata": {},
   "outputs": [
    {
     "name": "stdout",
     "output_type": "stream",
     "text": [
      "tensor([[0.1083, 0.0103, 0.6519, 0.2294]], grad_fn=<SoftmaxBackward>)\n"
     ]
    }
   ],
   "source": [
    "unhealthy1 = core.OH(x_t1[191].reshape(1,-1))\n",
    "print(unhealthy1)"
   ]
  },
  {
   "cell_type": "code",
   "execution_count": 72,
   "metadata": {},
   "outputs": [
    {
     "name": "stdout",
     "output_type": "stream",
     "text": [
      "tensor([[0.5065, 0.3792, 0.0467, 0.0676]], grad_fn=<SoftmaxBackward>)\n"
     ]
    }
   ],
   "source": [
    "healthy2 = core.OH(x_t1[192].reshape(1,-1))\n",
    "print(healthy2)"
   ]
  },
  {
   "cell_type": "code",
   "execution_count": 82,
   "metadata": {},
   "outputs": [
    {
     "name": "stdout",
     "output_type": "stream",
     "text": [
      "tensor([[0.0768, 0.0049, 0.8523, 0.0660]], grad_fn=<SoftmaxBackward>)\n"
     ]
    }
   ],
   "source": [
    "unhealthy2 = core.OH(x_t1[478].reshape(1,-1))\n",
    "print(unhealthy2)"
   ]
  },
  {
   "cell_type": "code",
   "execution_count": 84,
   "metadata": {},
   "outputs": [
    {
     "name": "stdout",
     "output_type": "stream",
     "text": [
      "tensor([[0.3844, 0.5605, 0.0532, 0.0019]], grad_fn=<SoftmaxBackward>)\n"
     ]
    }
   ],
   "source": [
    "healthy3 = core.OH(x_t1[479].reshape(1,-1))\n",
    "print(healthy3)"
   ]
  },
  {
   "cell_type": "code",
   "execution_count": 87,
   "metadata": {},
   "outputs": [
    {
     "name": "stdout",
     "output_type": "stream",
     "text": [
      "tensor([[0.0628, 0.0026, 0.8670, 0.0677]], grad_fn=<SoftmaxBackward>)\n"
     ]
    }
   ],
   "source": [
    "unhealthy3 = core.OH(x_t1[657].reshape(1,-1))\n",
    "print(unhealthy3)"
   ]
  },
  {
   "cell_type": "code",
   "execution_count": 88,
   "metadata": {},
   "outputs": [
    {
     "name": "stdout",
     "output_type": "stream",
     "text": [
      "tensor([[0.4126, 0.4653, 0.1057, 0.0165]], grad_fn=<SoftmaxBackward>)\n"
     ]
    }
   ],
   "source": [
    "healthy4 = core.OH(x_t1[658].reshape(1,-1))\n",
    "print(healthy4)"
   ]
  },
  {
   "cell_type": "code",
   "execution_count": 90,
   "metadata": {},
   "outputs": [
    {
     "name": "stdout",
     "output_type": "stream",
     "text": [
      "tensor([[0.0510, 0.0016, 0.8885, 0.0589]], grad_fn=<SoftmaxBackward>)\n"
     ]
    }
   ],
   "source": [
    "unhealthy4 = core.OH(x_t1[846].reshape(1,-1))\n",
    "print(unhealthy4)"
   ]
  },
  {
   "cell_type": "code",
   "execution_count": null,
   "metadata": {},
   "outputs": [],
   "source": []
  },
  {
   "cell_type": "code",
   "execution_count": null,
   "metadata": {},
   "outputs": [],
   "source": [
    "print(core.forward(x[0].reshape(1,-1)))\n",
    "print(core.forward(x[192].reshape(1,-1)))\n",
    "print(core.forward(x[479].reshape(1,-1)))\n",
    "print(core.forward(x[658].reshape(1,-1)))"
   ]
  },
  {
   "cell_type": "code",
   "execution_count": null,
   "metadata": {},
   "outputs": [],
   "source": [
    "#Net output. Should be 0\n",
    "print(core.forward(x[191].reshape(1,-1)))\n",
    "print(core.forward(x[478].reshape(1,-1)))\n",
    "print(core.forward(x[657].reshape(1,-1)))\n",
    "print(core.forward(x[846].reshape(1,-1)))"
   ]
  },
  {
   "cell_type": "code",
   "execution_count": 55,
   "metadata": {},
   "outputs": [
    {
     "data": {
      "text/plain": [
       "tensor([[0.5637, 0.1538, 0.1508, 0.1317],\n",
       "        [0.5489, 0.1628, 0.1510, 0.1372],\n",
       "        [0.6133, 0.1394, 0.1305, 0.1168],\n",
       "        [0.6930, 0.1039, 0.1046, 0.0985],\n",
       "        [0.5784, 0.1422, 0.1465, 0.1329],\n",
       "        [0.7249, 0.0864, 0.0980, 0.0908],\n",
       "        [0.6296, 0.1267, 0.1305, 0.1133],\n",
       "        [0.7091, 0.0981, 0.0992, 0.0936],\n",
       "        [0.6594, 0.1163, 0.1187, 0.1057],\n",
       "        [0.6614, 0.1093, 0.1232, 0.1061],\n",
       "        [0.6593, 0.1095, 0.1168, 0.1144],\n",
       "        [0.6712, 0.1158, 0.1100, 0.1029],\n",
       "        [0.4513, 0.2126, 0.1820, 0.1541],\n",
       "        [0.5543, 0.1630, 0.1532, 0.1295],\n",
       "        [0.5766, 0.1585, 0.1386, 0.1263],\n",
       "        [0.5977, 0.1360, 0.1405, 0.1258],\n",
       "        [0.5599, 0.1460, 0.1519, 0.1422],\n",
       "        [0.6231, 0.1218, 0.1345, 0.1206],\n",
       "        [0.5963, 0.1354, 0.1388, 0.1294],\n",
       "        [0.7044, 0.0989, 0.1003, 0.0964],\n",
       "        [0.6171, 0.1404, 0.1293, 0.1132],\n",
       "        [0.5611, 0.1456, 0.1553, 0.1380],\n",
       "        [0.6431, 0.1187, 0.1218, 0.1164],\n",
       "        [0.5481, 0.1645, 0.1531, 0.1343],\n",
       "        [0.6186, 0.1212, 0.1366, 0.1236],\n",
       "        [0.6239, 0.1241, 0.1338, 0.1182],\n",
       "        [0.5784, 0.1415, 0.1497, 0.1305],\n",
       "        [0.6136, 0.1511, 0.1237, 0.1116],\n",
       "        [0.6439, 0.1194, 0.1251, 0.1115],\n",
       "        [0.6614, 0.1154, 0.1152, 0.1079],\n",
       "        [0.5807, 0.1520, 0.1436, 0.1236],\n",
       "        [0.6921, 0.0989, 0.1085, 0.1006],\n",
       "        [0.5792, 0.1432, 0.1498, 0.1278],\n",
       "        [0.5188, 0.1763, 0.1591, 0.1459],\n",
       "        [0.6164, 0.1320, 0.1293, 0.1224],\n",
       "        [0.6985, 0.0969, 0.1030, 0.1017],\n",
       "        [0.7107, 0.0961, 0.0994, 0.0938],\n",
       "        [0.6736, 0.1089, 0.1151, 0.1024],\n",
       "        [0.6834, 0.0967, 0.1141, 0.1057],\n",
       "        [0.6384, 0.1198, 0.1254, 0.1163],\n",
       "        [0.6415, 0.1207, 0.1223, 0.1154],\n",
       "        [0.5275, 0.1757, 0.1582, 0.1386],\n",
       "        [0.5527, 0.1684, 0.1548, 0.1241],\n",
       "        [0.6711, 0.1145, 0.1115, 0.1030],\n",
       "        [0.4929, 0.1796, 0.1744, 0.1532],\n",
       "        [0.5588, 0.1517, 0.1558, 0.1338],\n",
       "        [0.7065, 0.0988, 0.1001, 0.0947],\n",
       "        [0.5581, 0.1608, 0.1485, 0.1326],\n",
       "        [0.6400, 0.1230, 0.1239, 0.1131],\n",
       "        [0.5361, 0.1674, 0.1571, 0.1394],\n",
       "        [0.6005, 0.1332, 0.1385, 0.1279],\n",
       "        [0.5915, 0.1446, 0.1346, 0.1292],\n",
       "        [0.5651, 0.1554, 0.1431, 0.1363],\n",
       "        [0.5348, 0.1659, 0.1648, 0.1345],\n",
       "        [0.6170, 0.1362, 0.1292, 0.1176],\n",
       "        [0.6550, 0.1101, 0.1180, 0.1169],\n",
       "        [0.5126, 0.1730, 0.1678, 0.1466],\n",
       "        [0.5980, 0.1464, 0.1348, 0.1208],\n",
       "        [0.5699, 0.1436, 0.1514, 0.1350],\n",
       "        [0.6075, 0.1330, 0.1365, 0.1230],\n",
       "        [0.5600, 0.1661, 0.1439, 0.1300],\n",
       "        [0.5671, 0.1678, 0.1411, 0.1240],\n",
       "        [0.4651, 0.1796, 0.1912, 0.1640],\n",
       "        [0.5770, 0.1551, 0.1385, 0.1295],\n",
       "        [0.4637, 0.2077, 0.1766, 0.1519],\n",
       "        [0.6055, 0.1339, 0.1381, 0.1225],\n",
       "        [0.5156, 0.1789, 0.1671, 0.1383],\n",
       "        [0.4720, 0.2030, 0.1740, 0.1511],\n",
       "        [0.5704, 0.1589, 0.1463, 0.1244],\n",
       "        [0.4916, 0.1953, 0.1657, 0.1473],\n",
       "        [0.5747, 0.1496, 0.1405, 0.1352],\n",
       "        [0.5056, 0.1866, 0.1632, 0.1446],\n",
       "        [0.6237, 0.1305, 0.1298, 0.1160],\n",
       "        [0.5842, 0.1389, 0.1396, 0.1373],\n",
       "        [0.5733, 0.1542, 0.1415, 0.1310],\n",
       "        [0.5979, 0.1384, 0.1369, 0.1267],\n",
       "        [0.4860, 0.1887, 0.1749, 0.1504],\n",
       "        [0.4973, 0.1989, 0.1617, 0.1420],\n",
       "        [0.4555, 0.2022, 0.1869, 0.1554],\n",
       "        [0.4529, 0.2065, 0.1829, 0.1576],\n",
       "        [0.4888, 0.1836, 0.1701, 0.1576],\n",
       "        [0.5444, 0.1608, 0.1615, 0.1332],\n",
       "        [0.5412, 0.1579, 0.1568, 0.1441],\n",
       "        [0.4604, 0.1895, 0.1862, 0.1639],\n",
       "        [0.5446, 0.1625, 0.1571, 0.1359],\n",
       "        [0.4828, 0.1970, 0.1776, 0.1426],\n",
       "        [0.4117, 0.2304, 0.1907, 0.1671],\n",
       "        [0.5472, 0.1705, 0.1482, 0.1340],\n",
       "        [0.4401, 0.2115, 0.1864, 0.1620],\n",
       "        [0.4671, 0.2003, 0.1721, 0.1605],\n",
       "        [0.4969, 0.1846, 0.1748, 0.1437],\n",
       "        [0.4622, 0.2023, 0.1780, 0.1575],\n",
       "        [0.3867, 0.2259, 0.2101, 0.1773],\n",
       "        [0.4070, 0.2327, 0.1946, 0.1657],\n",
       "        [0.4913, 0.1812, 0.1713, 0.1562],\n",
       "        [0.5115, 0.1816, 0.1645, 0.1424],\n",
       "        [0.4484, 0.2061, 0.1862, 0.1593],\n",
       "        [0.5331, 0.1730, 0.1592, 0.1347],\n",
       "        [0.3682, 0.2365, 0.2192, 0.1761],\n",
       "        [0.4133, 0.2276, 0.1947, 0.1644],\n",
       "        [0.4576, 0.2011, 0.1758, 0.1655],\n",
       "        [0.3655, 0.2462, 0.2091, 0.1793],\n",
       "        [0.4253, 0.2228, 0.1877, 0.1642],\n",
       "        [0.5114, 0.1845, 0.1642, 0.1399],\n",
       "        [0.4705, 0.1903, 0.1815, 0.1577],\n",
       "        [0.4698, 0.2022, 0.1735, 0.1544],\n",
       "        [0.4477, 0.1919, 0.2037, 0.1567],\n",
       "        [0.4019, 0.2176, 0.2008, 0.1798],\n",
       "        [0.3691, 0.2522, 0.2131, 0.1656],\n",
       "        [0.3919, 0.2490, 0.1985, 0.1606],\n",
       "        [0.2861, 0.3078, 0.2245, 0.1816],\n",
       "        [0.4728, 0.1851, 0.1838, 0.1583],\n",
       "        [0.3060, 0.2837, 0.2259, 0.1844],\n",
       "        [0.4119, 0.2288, 0.1994, 0.1600],\n",
       "        [0.3628, 0.2506, 0.2193, 0.1673],\n",
       "        [0.5108, 0.1778, 0.1679, 0.1435],\n",
       "        [0.3732, 0.2459, 0.2104, 0.1706],\n",
       "        [0.3173, 0.2741, 0.2285, 0.1801],\n",
       "        [0.3922, 0.2355, 0.2094, 0.1629],\n",
       "        [0.3334, 0.2652, 0.2270, 0.1744],\n",
       "        [0.3599, 0.2400, 0.2219, 0.1782],\n",
       "        [0.2088, 0.3530, 0.2457, 0.1925],\n",
       "        [0.3093, 0.2863, 0.2159, 0.1885],\n",
       "        [0.2535, 0.3155, 0.2376, 0.1934],\n",
       "        [0.2633, 0.3153, 0.2355, 0.1859],\n",
       "        [0.3508, 0.2554, 0.2154, 0.1784],\n",
       "        [0.3541, 0.2503, 0.2148, 0.1808],\n",
       "        [0.2587, 0.3162, 0.2390, 0.1862],\n",
       "        [0.2732, 0.3265, 0.2263, 0.1741],\n",
       "        [0.3430, 0.2540, 0.2222, 0.1808],\n",
       "        [0.3090, 0.2859, 0.2168, 0.1884],\n",
       "        [0.2269, 0.3305, 0.2451, 0.1976],\n",
       "        [0.2846, 0.2827, 0.2433, 0.1894],\n",
       "        [0.2957, 0.2854, 0.2284, 0.1905],\n",
       "        [0.3376, 0.2646, 0.2186, 0.1791],\n",
       "        [0.3880, 0.2345, 0.2043, 0.1732],\n",
       "        [0.2658, 0.3112, 0.2393, 0.1837],\n",
       "        [0.3172, 0.2984, 0.2124, 0.1719],\n",
       "        [0.2300, 0.3564, 0.2331, 0.1805],\n",
       "        [0.2504, 0.3029, 0.2474, 0.1993],\n",
       "        [0.2367, 0.3569, 0.2387, 0.1677],\n",
       "        [0.2040, 0.3747, 0.2387, 0.1825],\n",
       "        [0.2911, 0.2770, 0.2421, 0.1897],\n",
       "        [0.1867, 0.3853, 0.2415, 0.1866],\n",
       "        [0.1303, 0.4256, 0.2638, 0.1803],\n",
       "        [0.2654, 0.2991, 0.2363, 0.1992],\n",
       "        [0.2059, 0.3685, 0.2422, 0.1835],\n",
       "        [0.2419, 0.3372, 0.2346, 0.1863],\n",
       "        [0.0780, 0.5280, 0.2354, 0.1586],\n",
       "        [0.1112, 0.4820, 0.2383, 0.1685],\n",
       "        [0.0828, 0.5204, 0.2395, 0.1573],\n",
       "        [0.0544, 0.5980, 0.2161, 0.1315],\n",
       "        [0.0942, 0.5048, 0.2388, 0.1622],\n",
       "        [0.0722, 0.5438, 0.2349, 0.1491],\n",
       "        [0.1178, 0.4870, 0.2320, 0.1632],\n",
       "        [0.0917, 0.5246, 0.2276, 0.1561],\n",
       "        [0.1624, 0.4130, 0.2524, 0.1722],\n",
       "        [0.1002, 0.5153, 0.2282, 0.1563],\n",
       "        [0.0624, 0.5687, 0.2269, 0.1420],\n",
       "        [0.0388, 0.6283, 0.2092, 0.1237],\n",
       "        [0.0631, 0.5661, 0.2245, 0.1463],\n",
       "        [0.0445, 0.6422, 0.1945, 0.1188],\n",
       "        [0.0318, 0.6790, 0.1837, 0.1055],\n",
       "        [0.0333, 0.6660, 0.1897, 0.1109],\n",
       "        [0.0473, 0.6326, 0.1966, 0.1234],\n",
       "        [0.0248, 0.7081, 0.1727, 0.0944],\n",
       "        [0.0509, 0.6174, 0.2021, 0.1296],\n",
       "        [0.0506, 0.6378, 0.1915, 0.1201],\n",
       "        [0.0388, 0.6450, 0.1989, 0.1173],\n",
       "        [0.0270, 0.6991, 0.1756, 0.0982],\n",
       "        [0.0335, 0.6637, 0.1901, 0.1128],\n",
       "        [0.0237, 0.7274, 0.1606, 0.0883],\n",
       "        [0.0226, 0.7225, 0.1651, 0.0897],\n",
       "        [0.0277, 0.6936, 0.1830, 0.0957],\n",
       "        [0.0182, 0.7481, 0.1530, 0.0808],\n",
       "        [0.0297, 0.6879, 0.1797, 0.1027],\n",
       "        [0.0168, 0.7505, 0.1545, 0.0782],\n",
       "        [0.0190, 0.7406, 0.1579, 0.0824],\n",
       "        [0.0241, 0.7057, 0.1741, 0.0960],\n",
       "        [0.0235, 0.7317, 0.1586, 0.0862],\n",
       "        [0.0158, 0.7563, 0.1523, 0.0756],\n",
       "        [0.0106, 0.7996, 0.1278, 0.0620],\n",
       "        [0.0162, 0.7556, 0.1505, 0.0777],\n",
       "        [0.0054, 0.8587, 0.0942, 0.0417],\n",
       "        [0.0077, 0.8357, 0.1063, 0.0502],\n",
       "        [0.0171, 0.7418, 0.1573, 0.0838],\n",
       "        [0.0060, 0.8514, 0.0989, 0.0437],\n",
       "        [0.0072, 0.8444, 0.1025, 0.0459],\n",
       "        [0.0057, 0.8580, 0.0937, 0.0426],\n",
       "        [0.0049, 0.8656, 0.0905, 0.0390],\n",
       "        [0.0068, 0.8442, 0.1018, 0.0471],\n",
       "        [0.0048, 0.8699, 0.0872, 0.0382]], grad_fn=<SoftmaxBackward>)"
      ]
     },
     "execution_count": 55,
     "metadata": {},
     "output_type": "execute_result"
    }
   ],
   "source": [
    "core.OH(x[:192])"
   ]
  },
  {
   "cell_type": "code",
   "execution_count": 64,
   "metadata": {},
   "outputs": [
    {
     "data": {
      "text/plain": [
       "[<matplotlib.lines.Line2D at 0x7f33baeb31f0>]"
      ]
     },
     "execution_count": 64,
     "metadata": {},
     "output_type": "execute_result"
    },
    {
     "data": {
      "image/png": "[encoded data removed]",
      "text/plain": [
       "<Figure size 432x288 with 1 Axes>"
      ]
     },
     "metadata": {
      "needs_background": "light"
     },
     "output_type": "display_data"
    }
   ],
   "source": [
    "plt.plot(core.OH(x[:192]).detach().numpy()[:,0])"
   ]
  },
  {
   "cell_type": "code",
   "execution_count": 65,
   "metadata": {},
   "outputs": [
    {
     "data": {
      "text/plain": [
       "[<matplotlib.lines.Line2D at 0x7f33bab9abe0>]"
      ]
     },
     "execution_count": 65,
     "metadata": {},
     "output_type": "execute_result"
    },
    {
     "data": {
      "image/png": "[encoded data removed]",
      "text/plain": [
       "<Figure size 432x288 with 1 Axes>"
      ]
     },
     "metadata": {
      "needs_background": "light"
     },
     "output_type": "display_data"
    }
   ],
   "source": [
    "plt.plot(core.OH(x[:192]).detach().numpy()[:,1])"
   ]
  },
  {
   "cell_type": "code",
   "execution_count": 62,
   "metadata": {},
   "outputs": [
    {
     "data": {
      "text/plain": [
       "[<matplotlib.lines.Line2D at 0x7f33ba823df0>]"
      ]
     },
     "execution_count": 62,
     "metadata": {},
     "output_type": "execute_result"
    },
    {
     "data": {
      "image/png": "[encoded data removed]",
      "text/plain": [
       "<Figure size 432x288 with 1 Axes>"
      ]
     },
     "metadata": {
      "needs_background": "light"
     },
     "output_type": "display_data"
    }
   ],
   "source": [
    "plt.plot(core.OH(x[:192]).detach().numpy()[:,2])"
   ]
  },
  {
   "cell_type": "code",
   "execution_count": 63,
   "metadata": {},
   "outputs": [
    {
     "data": {
      "text/plain": [
       "[<matplotlib.lines.Line2D at 0x7f33baeaf040>]"
      ]
     },
     "execution_count": 63,
     "metadata": {},
     "output_type": "execute_result"
    },
    {
     "data": {
      "image/png": "[encoded data removed]",
      "text/plain": [
       "<Figure size 432x288 with 1 Axes>"
      ]
     },
     "metadata": {
      "needs_background": "light"
     },
     "output_type": "display_data"
    }
   ],
   "source": [
    "plt.plot(core.OH(x[:192]).detach().numpy()[:,3])"
   ]
  },
  {
   "cell_type": "code",
   "execution_count": null,
   "metadata": {},
   "outputs": [],
   "source": []
  }
 ],
 "metadata": {
  "kernelspec": {
   "display_name": "Python 3",
   "language": "python",
   "name": "python3"
  },
  "language_info": {
   "codemirror_mode": {
    "name": "ipython",
    "version": 3
   },
   "file_extension": ".py",
   "mimetype": "text/x-python",
   "name": "python",
   "nbconvert_exporter": "python",
   "pygments_lexer": "ipython3",
   "version": "3.8.3"
  }
 },
 "nbformat": 4,
 "nbformat_minor": 4
}
