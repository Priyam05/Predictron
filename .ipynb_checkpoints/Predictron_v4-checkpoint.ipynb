{
 "cells": [
  {
   "cell_type": "code",
   "execution_count": null,
   "metadata": {
    "collapsed": true
   },
   "outputs": [],
   "source": [
    "#Distributions and Modules\n",
    "import torch.nn as nn\n",
    "import torch\n",
    "import torch.nn.functional as F\n",
    "from torch import distributions\n",
    "import pandas as pd\n",
    "import numpy as np\n",
    "from torch import optim\n",
    "import matplotlib.pyplot as plt"
   ]
  },
  {
   "cell_type": "markdown",
   "metadata": {},
   "source": [
    "### Import Dataset"
   ]
  },
  {
   "cell_type": "code",
   "execution_count": 2,
   "metadata": {},
   "outputs": [
    {
     "data": {
      "text/html": [
       "<div>\n",
       "<style scoped>\n",
       "    .dataframe tbody tr th:only-of-type {\n",
       "        vertical-align: middle;\n",
       "    }\n",
       "\n",
       "    .dataframe tbody tr th {\n",
       "        vertical-align: top;\n",
       "    }\n",
       "\n",
       "    .dataframe thead th {\n",
       "        text-align: right;\n",
       "    }\n",
       "</style>\n",
       "<table border=\"1\" class=\"dataframe\">\n",
       "  <thead>\n",
       "    <tr style=\"text-align: right;\">\n",
       "      <th></th>\n",
       "      <th>machine</th>\n",
       "      <th>time</th>\n",
       "      <th>2</th>\n",
       "      <th>3</th>\n",
       "      <th>6</th>\n",
       "      <th>7</th>\n",
       "      <th>8</th>\n",
       "      <th>9</th>\n",
       "      <th>10</th>\n",
       "      <th>11</th>\n",
       "      <th>...</th>\n",
       "      <th>16</th>\n",
       "      <th>17</th>\n",
       "      <th>18</th>\n",
       "      <th>19</th>\n",
       "      <th>20</th>\n",
       "      <th>21</th>\n",
       "      <th>24</th>\n",
       "      <th>25</th>\n",
       "      <th>reward</th>\n",
       "      <th>MC_Val</th>\n",
       "    </tr>\n",
       "  </thead>\n",
       "  <tbody>\n",
       "    <tr>\n",
       "      <th>0</th>\n",
       "      <td>1</td>\n",
       "      <td>1</td>\n",
       "      <td>-0.315972</td>\n",
       "      <td>-1.372920</td>\n",
       "      <td>-1.721684</td>\n",
       "      <td>-0.134252</td>\n",
       "      <td>-0.925914</td>\n",
       "      <td>-0.999976</td>\n",
       "      <td>0.14168</td>\n",
       "      <td>1.121113</td>\n",
       "      <td>...</td>\n",
       "      <td>0.334254</td>\n",
       "      <td>-1.058865</td>\n",
       "      <td>-0.269065</td>\n",
       "      <td>-0.603801</td>\n",
       "      <td>-0.999976</td>\n",
       "      <td>-0.781691</td>\n",
       "      <td>1.348460</td>\n",
       "      <td>1.194398</td>\n",
       "      <td>0</td>\n",
       "      <td>-1.821039e-07</td>\n",
       "    </tr>\n",
       "    <tr>\n",
       "      <th>1</th>\n",
       "      <td>1</td>\n",
       "      <td>2</td>\n",
       "      <td>0.872701</td>\n",
       "      <td>-1.031695</td>\n",
       "      <td>-1.061754</td>\n",
       "      <td>0.211523</td>\n",
       "      <td>-0.643710</td>\n",
       "      <td>-0.999976</td>\n",
       "      <td>0.14168</td>\n",
       "      <td>0.431920</td>\n",
       "      <td>...</td>\n",
       "      <td>1.174871</td>\n",
       "      <td>-0.363637</td>\n",
       "      <td>-0.642829</td>\n",
       "      <td>-0.275845</td>\n",
       "      <td>-0.999976</td>\n",
       "      <td>-0.781691</td>\n",
       "      <td>1.016503</td>\n",
       "      <td>1.236892</td>\n",
       "      <td>0</td>\n",
       "      <td>-2.023377e-07</td>\n",
       "    </tr>\n",
       "    <tr>\n",
       "      <th>2</th>\n",
       "      <td>1</td>\n",
       "      <td>3</td>\n",
       "      <td>-1.961827</td>\n",
       "      <td>1.015652</td>\n",
       "      <td>-0.661797</td>\n",
       "      <td>-0.413156</td>\n",
       "      <td>-0.525940</td>\n",
       "      <td>-0.999976</td>\n",
       "      <td>0.14168</td>\n",
       "      <td>1.008131</td>\n",
       "      <td>...</td>\n",
       "      <td>1.364688</td>\n",
       "      <td>-0.919819</td>\n",
       "      <td>-0.551616</td>\n",
       "      <td>-0.649128</td>\n",
       "      <td>-0.999976</td>\n",
       "      <td>-2.073044</td>\n",
       "      <td>0.739873</td>\n",
       "      <td>0.503411</td>\n",
       "      <td>0</td>\n",
       "      <td>-2.248197e-07</td>\n",
       "    </tr>\n",
       "    <tr>\n",
       "      <th>3</th>\n",
       "      <td>1</td>\n",
       "      <td>4</td>\n",
       "      <td>0.324083</td>\n",
       "      <td>-0.008022</td>\n",
       "      <td>-0.661797</td>\n",
       "      <td>-1.261284</td>\n",
       "      <td>-0.784812</td>\n",
       "      <td>-0.999976</td>\n",
       "      <td>0.14168</td>\n",
       "      <td>1.222798</td>\n",
       "      <td>...</td>\n",
       "      <td>1.961255</td>\n",
       "      <td>-0.224592</td>\n",
       "      <td>-0.520163</td>\n",
       "      <td>-1.971617</td>\n",
       "      <td>-0.999976</td>\n",
       "      <td>-0.781691</td>\n",
       "      <td>0.352590</td>\n",
       "      <td>0.777773</td>\n",
       "      <td>0</td>\n",
       "      <td>-2.497996e-07</td>\n",
       "    </tr>\n",
       "    <tr>\n",
       "      <th>4</th>\n",
       "      <td>1</td>\n",
       "      <td>5</td>\n",
       "      <td>-0.864590</td>\n",
       "      <td>-0.690471</td>\n",
       "      <td>-0.621801</td>\n",
       "      <td>-1.251498</td>\n",
       "      <td>-0.301511</td>\n",
       "      <td>-0.999976</td>\n",
       "      <td>0.14168</td>\n",
       "      <td>0.714376</td>\n",
       "      <td>...</td>\n",
       "      <td>1.052846</td>\n",
       "      <td>-0.780774</td>\n",
       "      <td>-0.521736</td>\n",
       "      <td>-0.339837</td>\n",
       "      <td>-0.999976</td>\n",
       "      <td>-0.136014</td>\n",
       "      <td>0.463242</td>\n",
       "      <td>1.059526</td>\n",
       "      <td>0</td>\n",
       "      <td>-2.775551e-07</td>\n",
       "    </tr>\n",
       "  </tbody>\n",
       "</table>\n",
       "<p>5 rows × 23 columns</p>\n",
       "</div>"
      ],
      "text/plain": [
       "   machine  time         2         3         6         7         8         9  \\\n",
       "0        1     1 -0.315972 -1.372920 -1.721684 -0.134252 -0.925914 -0.999976   \n",
       "1        1     2  0.872701 -1.031695 -1.061754  0.211523 -0.643710 -0.999976   \n",
       "2        1     3 -1.961827  1.015652 -0.661797 -0.413156 -0.525940 -0.999976   \n",
       "3        1     4  0.324083 -0.008022 -0.661797 -1.261284 -0.784812 -0.999976   \n",
       "4        1     5 -0.864590 -0.690471 -0.621801 -1.251498 -0.301511 -0.999976   \n",
       "\n",
       "        10        11  ...        16        17        18        19        20  \\\n",
       "0  0.14168  1.121113  ...  0.334254 -1.058865 -0.269065 -0.603801 -0.999976   \n",
       "1  0.14168  0.431920  ...  1.174871 -0.363637 -0.642829 -0.275845 -0.999976   \n",
       "2  0.14168  1.008131  ...  1.364688 -0.919819 -0.551616 -0.649128 -0.999976   \n",
       "3  0.14168  1.222798  ...  1.961255 -0.224592 -0.520163 -1.971617 -0.999976   \n",
       "4  0.14168  0.714376  ...  1.052846 -0.780774 -0.521736 -0.339837 -0.999976   \n",
       "\n",
       "         21        24        25  reward        MC_Val  \n",
       "0 -0.781691  1.348460  1.194398       0 -1.821039e-07  \n",
       "1 -0.781691  1.016503  1.236892       0 -2.023377e-07  \n",
       "2 -2.073044  0.739873  0.503411       0 -2.248197e-07  \n",
       "3 -0.781691  0.352590  0.777773       0 -2.497996e-07  \n",
       "4 -0.136014  0.463242  1.059526       0 -2.775551e-07  \n",
       "\n",
       "[5 rows x 23 columns]"
      ]
     },
     "execution_count": 2,
     "metadata": {},
     "output_type": "execute_result"
    }
   ],
   "source": [
    "df = pd.read_csv(\"train_FD001.csv\") #gamma = 0.9\n",
    "df = df.drop(columns=[\"Unnamed: 0\"])\n",
    "df.head(5)"
   ]
  },
  {
   "cell_type": "markdown",
   "metadata": {},
   "source": [
    "### Neural Networks for Predictron"
   ]
  },
  {
   "cell_type": "code",
   "execution_count": 3,
   "metadata": {
    "collapsed": true
   },
   "outputs": [],
   "source": [
    "#Neural network for Observation - Hidden State\n",
    "\n",
    "class NN_OH(nn.Module):\n",
    "    def __init__(self, input_size, out_size):\n",
    "        super(NN_OH,self).__init__()\n",
    "        self.fc1 = nn.Linear(input_size,32)\n",
    "        self.fc2 = nn.Linear(32,16)\n",
    "        self.fc3 = nn.Linear(16,out_size)\n",
    "        \n",
    "    def forward(self,x):\n",
    "        x = F.relu(self.fc1(x))\n",
    "        x = F.relu(self.fc2(x))\n",
    "        x = self.fc3(x)\n",
    "        return torch.nn.functional.softmax(x, dim=1)"
   ]
  },
  {
   "cell_type": "code",
   "execution_count": 4,
   "metadata": {
    "collapsed": true
   },
   "outputs": [],
   "source": [
    "#Neural network for Hidden State - Reward, Gamma, Lambda\n",
    "\n",
    "class NN_reward(nn.Module):\n",
    "    def __init__(self, input_size):\n",
    "        super(NN_reward,self).__init__()\n",
    "        self.fc1 = nn.Linear(input_size,32)\n",
    "        self.fc2 = nn.Linear(32,16)\n",
    "        self.fc3 = nn.Linear(16,3)\n",
    "        \n",
    "    def forward(self,x):\n",
    "        x = F.relu(self.fc1(x))\n",
    "        x = F.relu(self.fc2(x))\n",
    "        x = self.fc3(x)\n",
    "        return x"
   ]
  },
  {
   "cell_type": "code",
   "execution_count": 5,
   "metadata": {
    "collapsed": true
   },
   "outputs": [],
   "source": [
    "#Neural network for Hidden State - Value\n",
    "\n",
    "class NN_val(nn.Module):\n",
    "    def __init__(self, input_size):\n",
    "        super(NN_val,self).__init__()\n",
    "        self.fc1 = nn.Linear(input_size,32)\n",
    "        self.fc2 = nn.Linear(32,16)\n",
    "        self.fc3 = nn.Linear(16,1)\n",
    "        \n",
    "    def forward(self,x):\n",
    "        x = F.relu(self.fc1(x))\n",
    "        x = F.relu(self.fc2(x))\n",
    "        x = self.fc3(x)\n",
    "        return x"
   ]
  },
  {
   "cell_type": "code",
   "execution_count": 6,
   "metadata": {
    "collapsed": true
   },
   "outputs": [],
   "source": [
    "#Neural Network which will take my current hidden state to the next hidden state\n",
    "\n",
    "class NN_HH(nn.Module):\n",
    "    def __init__(self, input_size):\n",
    "        super(NN_HH,self).__init__()\n",
    "        self.fc1 = nn.Linear(input_size,32)\n",
    "        self.fc2 = nn.Linear(32,16)\n",
    "        self.fc3 = nn.Linear(16,input_size)\n",
    "        \n",
    "    def forward(self,x):\n",
    "        x = F.relu(self.fc1(x))\n",
    "        x = F.relu(self.fc2(x))\n",
    "        x = self.fc3(x)\n",
    "        return torch.nn.functional.softmax(x, dim=1)"
   ]
  },
  {
   "cell_type": "markdown",
   "metadata": {},
   "source": [
    "### Predictron "
   ]
  },
  {
   "cell_type": "code",
   "execution_count": 7,
   "metadata": {
    "collapsed": true
   },
   "outputs": [],
   "source": [
    "#Now we have all the required neural networks for the predictron. Lets build the Predictron\n",
    "\n",
    "class Predictronv4(nn.Module):\n",
    "    def __init__(self, obs_size, hid_size, k=10):\n",
    "        super(Predictronv4,self).__init__()\n",
    "        \n",
    "        #Instantiate Neural Network for Observation-Hidden State\n",
    "        self.OH = NN_OH(obs_size, hid_size)\n",
    "        \n",
    "        #Instantiate Neural Network for Hidden State - Reward, Value\n",
    "        self.HR = NN_reward(hid_size)\n",
    "        \n",
    "        #Instantiate Neural Network for Hidden State - Val\n",
    "        self.HV = NN_val(hid_size)\n",
    "        \n",
    "        #Instantiate Neural Network for Hidden State - Next Hidden State\n",
    "        self.HH = NN_HH(hid_size)\n",
    "        \n",
    "        #K-step return\n",
    "        self.k = k\n",
    "        \n",
    "    def forward(self, x, isHidden=False):\n",
    "        \"\"\"\n",
    "        \n",
    "        isHidden - False is x is an observation vector\n",
    "        \n",
    "        \"\"\"\n",
    "        #First step: Get the Hidden state for the current observation\n",
    "        if isHidden == False:\n",
    "            x = self.OH(x)\n",
    "        \n",
    "        # Initialize lists\n",
    "        rewards = []\n",
    "        gammas = []\n",
    "        lambdas = []\n",
    "        values = []\n",
    "        \n",
    "        # forward pass\n",
    "        for k in range(0, self.k + 1):\n",
    "            \n",
    "            rewards.append(self.HR(x)[:, 0].reshape(-1, 1))\n",
    "            gammas.append(self.HR(x)[:, 1].reshape(-1, 1))\n",
    "            lambdas.append(self.HR(x)[:, 2].reshape(-1, 1))\n",
    "            values.append(self.HV(x))\n",
    "            \n",
    "            x = self.HH(x) #get the next hidden state\n",
    "\n",
    "        # backwards pass to compute g-lambda\n",
    "        gl = values[self.k]\n",
    "        for k in range(0, self.k)[::-1]:\n",
    "            gl = ((1 - lambdas[k])*values[k]) + (lambdas[k] * (rewards[k+1] + (gammas[k+1]*gl)))\n",
    "        \n",
    "        return gl.reshape(-1, 1)"
   ]
  },
  {
   "cell_type": "code",
   "execution_count": 8,
   "metadata": {
    "collapsed": true
   },
   "outputs": [],
   "source": [
    "def getXY(data):\n",
    "    x = torch.tensor(data.iloc[:, 2:-2].values).float()\n",
    "    y_target = torch.tensor(data.iloc[:,-1].values).float()\n",
    "    y_target = y_target.reshape(-1,1)\n",
    "    \n",
    "    return x, y_target"
   ]
  },
  {
   "cell_type": "code",
   "execution_count": 9,
   "metadata": {
    "collapsed": true
   },
   "outputs": [],
   "source": [
    "x, y_target = getXY(df)"
   ]
  },
  {
   "cell_type": "markdown",
   "metadata": {},
   "source": [
    "Lambda Predictron: Training Losses"
   ]
  },
  {
   "cell_type": "code",
   "execution_count": 10,
   "metadata": {
    "collapsed": true
   },
   "outputs": [],
   "source": [
    "#Defining the loss function and Initialising the Predictron core\n",
    "k_values = [5, 10, 15, 20]"
   ]
  },
  {
   "cell_type": "code",
   "execution_count": 11,
   "metadata": {},
   "outputs": [
    {
     "data": {
      "image/png": "[encoded data removed]",
      "text/plain": [
       "<Figure size 432x288 with 1 Axes>"
      ]
     },
     "metadata": {},
     "output_type": "display_data"
    },
    {
     "data": {
      "image/png": "[encoded data removed]",
      "text/plain": [
       "<Figure size 432x288 with 1 Axes>"
      ]
     },
     "metadata": {},
     "output_type": "display_data"
    },
    {
     "data": {
      "image/png": "[encoded data removed]",
      "text/plain": [
       "<Figure size 432x288 with 1 Axes>"
      ]
     },
     "metadata": {},
     "output_type": "display_data"
    },
    {
     "data": {
      "image/png": "[encoded data removed]",
      "text/plain": [
       "<Figure size 432x288 with 1 Axes>"
      ]
     },
     "metadata": {},
     "output_type": "display_data"
    }
   ],
   "source": [
    "n_epochs = 50 # or whatever\n",
    "batch_size = 256# or whatever\n",
    "\n",
    "for k in k_values:\n",
    "    \n",
    "    loss_fn = nn.MSELoss()\n",
    "\n",
    "    core = Predictronv4(x.shape[1], 4, k)\n",
    "    \n",
    "    optimizer = optim.Adam(core.parameters(), lr = 1e-3) \n",
    "    \n",
    "    losses=[]\n",
    "    \n",
    "    for epoch in range(n_epochs):\n",
    "\n",
    "        # x is our input\n",
    "        permutation = torch.randperm(x.size()[0])\n",
    "\n",
    "        for i in range(0,x.size()[0], batch_size):\n",
    "            optimizer.zero_grad()\n",
    "\n",
    "            indices = permutation[i:i+batch_size]\n",
    "            batch_x, batch_y = x[indices], y_target[indices]\n",
    "\n",
    "            # in case you wanted a semi-full example\n",
    "            outputs = core.forward(batch_x)\n",
    "            loss = loss_fn(outputs,batch_y)\n",
    "            optimizer.zero_grad()\n",
    "            loss.backward()\n",
    "            optimizer.step()\n",
    "        losses.append(loss.item())\n",
    "    \n",
    "    torch.save(core.state_dict(), \"training_FD001_k\" +str(k)+\".pth\")\n",
    "    \n",
    "    plt.plot(losses)\n",
    "    plt.xlabel(\"No. of iterations\")\n",
    "    plt.ylabel(\"Loss\")\n",
    "    plt.title(\"Training Loss for Predictron with \"+str(k)+\"-step return\")\n",
    "    plt.show()"
   ]
  },
  {
   "cell_type": "code",
   "execution_count": null,
   "metadata": {
    "collapsed": true
   },
   "outputs": [],
   "source": []
  }
 ],
 "metadata": {
  "kernelspec": {
   "display_name": "Python 3",
   "language": "python",
   "name": "python3"
  },
  "language_info": {
   "codemirror_mode": {
    "name": "ipython",
    "version": 3
   },
   "file_extension": ".py",
   "mimetype": "text/x-python",
   "name": "python",
   "nbconvert_exporter": "python",
   "pygments_lexer": "ipython3",
   "version": "3.6.7"
  }
 },
 "nbformat": 4,
 "nbformat_minor": 2
}
